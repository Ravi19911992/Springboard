{
 "cells": [
  {
   "cell_type": "markdown",
   "metadata": {},
   "source": [
    "## 1. Reading and viewing the dataset"
   ]
  },
  {
   "cell_type": "code",
   "execution_count": 1,
   "metadata": {},
   "outputs": [],
   "source": [
    "import pandas as pd\n",
    "import numpy as np\n",
    "import seaborn as sns\n",
    "import matplotlib.pyplot as plt"
   ]
  },
  {
   "cell_type": "code",
   "execution_count": 2,
   "metadata": {},
   "outputs": [
    {
     "data": {
      "text/html": [
       "<div>\n",
       "<style scoped>\n",
       "    .dataframe tbody tr th:only-of-type {\n",
       "        vertical-align: middle;\n",
       "    }\n",
       "\n",
       "    .dataframe tbody tr th {\n",
       "        vertical-align: top;\n",
       "    }\n",
       "\n",
       "    .dataframe thead th {\n",
       "        text-align: right;\n",
       "    }\n",
       "</style>\n",
       "<table border=\"1\" class=\"dataframe\">\n",
       "  <thead>\n",
       "    <tr style=\"text-align: right;\">\n",
       "      <th></th>\n",
       "      <th>id</th>\n",
       "      <th>listing_url</th>\n",
       "      <th>scrape_id</th>\n",
       "      <th>last_scraped</th>\n",
       "      <th>name</th>\n",
       "      <th>summary</th>\n",
       "      <th>space</th>\n",
       "      <th>description</th>\n",
       "      <th>experiences_offered</th>\n",
       "      <th>neighborhood_overview</th>\n",
       "      <th>...</th>\n",
       "      <th>requires_license</th>\n",
       "      <th>license</th>\n",
       "      <th>jurisdiction_names</th>\n",
       "      <th>instant_bookable</th>\n",
       "      <th>is_business_travel_ready</th>\n",
       "      <th>cancellation_policy</th>\n",
       "      <th>require_guest_profile_picture</th>\n",
       "      <th>require_guest_phone_verification</th>\n",
       "      <th>calculated_host_listings_count</th>\n",
       "      <th>reviews_per_month</th>\n",
       "    </tr>\n",
       "  </thead>\n",
       "  <tbody>\n",
       "    <tr>\n",
       "      <td>0</td>\n",
       "      <td>2015</td>\n",
       "      <td>https://www.airbnb.com/rooms/2015</td>\n",
       "      <td>20181107122246</td>\n",
       "      <td>2018-11-07</td>\n",
       "      <td>Berlin-Mitte Value! Quiet courtyard/very central</td>\n",
       "      <td>Great location!  30 of 75 sq meters. This wood...</td>\n",
       "      <td>A+++ location! This „Einliegerwohnung“ is an e...</td>\n",
       "      <td>Great location!  30 of 75 sq meters. This wood...</td>\n",
       "      <td>none</td>\n",
       "      <td>It is located in the former East Berlin area o...</td>\n",
       "      <td>...</td>\n",
       "      <td>t</td>\n",
       "      <td>NaN</td>\n",
       "      <td>NaN</td>\n",
       "      <td>f</td>\n",
       "      <td>f</td>\n",
       "      <td>strict_14_with_grace_period</td>\n",
       "      <td>f</td>\n",
       "      <td>f</td>\n",
       "      <td>4</td>\n",
       "      <td>3.76</td>\n",
       "    </tr>\n",
       "    <tr>\n",
       "      <td>1</td>\n",
       "      <td>2695</td>\n",
       "      <td>https://www.airbnb.com/rooms/2695</td>\n",
       "      <td>20181107122246</td>\n",
       "      <td>2018-11-07</td>\n",
       "      <td>Prenzlauer Berg close to Mauerpark</td>\n",
       "      <td>NaN</td>\n",
       "      <td>In the summertime we are spending most of our ...</td>\n",
       "      <td>In the summertime we are spending most of our ...</td>\n",
       "      <td>none</td>\n",
       "      <td>NaN</td>\n",
       "      <td>...</td>\n",
       "      <td>t</td>\n",
       "      <td>NaN</td>\n",
       "      <td>NaN</td>\n",
       "      <td>f</td>\n",
       "      <td>f</td>\n",
       "      <td>flexible</td>\n",
       "      <td>f</td>\n",
       "      <td>f</td>\n",
       "      <td>1</td>\n",
       "      <td>1.42</td>\n",
       "    </tr>\n",
       "  </tbody>\n",
       "</table>\n",
       "<p>2 rows × 96 columns</p>\n",
       "</div>"
      ],
      "text/plain": [
       "     id                        listing_url       scrape_id last_scraped  \\\n",
       "0  2015  https://www.airbnb.com/rooms/2015  20181107122246   2018-11-07   \n",
       "1  2695  https://www.airbnb.com/rooms/2695  20181107122246   2018-11-07   \n",
       "\n",
       "                                               name  \\\n",
       "0  Berlin-Mitte Value! Quiet courtyard/very central   \n",
       "1                Prenzlauer Berg close to Mauerpark   \n",
       "\n",
       "                                             summary  \\\n",
       "0  Great location!  30 of 75 sq meters. This wood...   \n",
       "1                                                NaN   \n",
       "\n",
       "                                               space  \\\n",
       "0  A+++ location! This „Einliegerwohnung“ is an e...   \n",
       "1  In the summertime we are spending most of our ...   \n",
       "\n",
       "                                         description experiences_offered  \\\n",
       "0  Great location!  30 of 75 sq meters. This wood...                none   \n",
       "1  In the summertime we are spending most of our ...                none   \n",
       "\n",
       "                               neighborhood_overview  ... requires_license  \\\n",
       "0  It is located in the former East Berlin area o...  ...                t   \n",
       "1                                                NaN  ...                t   \n",
       "\n",
       "  license jurisdiction_names instant_bookable is_business_travel_ready  \\\n",
       "0     NaN                NaN                f                        f   \n",
       "1     NaN                NaN                f                        f   \n",
       "\n",
       "           cancellation_policy  require_guest_profile_picture  \\\n",
       "0  strict_14_with_grace_period                              f   \n",
       "1                     flexible                              f   \n",
       "\n",
       "  require_guest_phone_verification  calculated_host_listings_count  \\\n",
       "0                                f                               4   \n",
       "1                                f                               1   \n",
       "\n",
       "   reviews_per_month  \n",
       "0               3.76  \n",
       "1               1.42  \n",
       "\n",
       "[2 rows x 96 columns]"
      ]
     },
     "execution_count": 2,
     "metadata": {},
     "output_type": "execute_result"
    }
   ],
   "source": [
    "df = pd.read_csv('../Capstone_1_project/listings_summary.csv')\n",
    "df.head(2)"
   ]
  },
  {
   "cell_type": "code",
   "execution_count": 3,
   "metadata": {},
   "outputs": [
    {
     "name": "stdout",
     "output_type": "stream",
     "text": [
      "This dataset has 22552 rows and 96 columns.\n",
      "It contains 0 duplicates.\n"
     ]
    }
   ],
   "source": [
    "# To check shape\n",
    "print(\"This dataset has {} rows and {} columns.\".format(*df.shape))\n",
    "\n",
    "# To Check duplicates\n",
    "print(\"It contains {} duplicates.\".format(df.duplicated().sum()))"
   ]
  },
  {
   "cell_type": "code",
   "execution_count": 4,
   "metadata": {
    "scrolled": true
   },
   "outputs": [
    {
     "name": "stdout",
     "output_type": "stream",
     "text": [
      "<class 'pandas.core.frame.DataFrame'>\n",
      "RangeIndex: 22552 entries, 0 to 22551\n",
      "Data columns (total 96 columns):\n",
      "id                                  22552 non-null int64\n",
      "listing_url                         22552 non-null object\n",
      "scrape_id                           22552 non-null int64\n",
      "last_scraped                        22552 non-null object\n",
      "name                                22493 non-null object\n",
      "summary                             21589 non-null object\n",
      "space                               14020 non-null object\n",
      "description                         22349 non-null object\n",
      "experiences_offered                 22552 non-null object\n",
      "neighborhood_overview               11540 non-null object\n",
      "notes                               7215 non-null object\n",
      "transit                             13036 non-null object\n",
      "access                              10837 non-null object\n",
      "interaction                         10406 non-null object\n",
      "house_rules                         11449 non-null object\n",
      "thumbnail_url                       0 non-null float64\n",
      "medium_url                          0 non-null float64\n",
      "picture_url                         22552 non-null object\n",
      "xl_picture_url                      0 non-null float64\n",
      "host_id                             22552 non-null int64\n",
      "host_url                            22552 non-null object\n",
      "host_name                           22526 non-null object\n",
      "host_since                          22526 non-null object\n",
      "host_location                       22436 non-null object\n",
      "host_about                          11189 non-null object\n",
      "host_response_time                  9658 non-null object\n",
      "host_response_rate                  9657 non-null object\n",
      "host_acceptance_rate                0 non-null float64\n",
      "host_is_superhost                   22526 non-null object\n",
      "host_thumbnail_url                  22526 non-null object\n",
      "host_picture_url                    22526 non-null object\n",
      "host_neighbourhood                  17458 non-null object\n",
      "host_listings_count                 22526 non-null float64\n",
      "host_total_listings_count           22526 non-null float64\n",
      "host_verifications                  22552 non-null object\n",
      "host_has_profile_pic                22526 non-null object\n",
      "host_identity_verified              22526 non-null object\n",
      "street                              22552 non-null object\n",
      "neighbourhood                       21421 non-null object\n",
      "neighbourhood_cleansed              22552 non-null object\n",
      "neighbourhood_group_cleansed        22552 non-null object\n",
      "city                                22547 non-null object\n",
      "state                               22468 non-null object\n",
      "zipcode                             21896 non-null object\n",
      "market                              22489 non-null object\n",
      "smart_location                      22552 non-null object\n",
      "country_code                        22552 non-null object\n",
      "country                             22552 non-null object\n",
      "latitude                            22552 non-null float64\n",
      "longitude                           22552 non-null float64\n",
      "is_location_exact                   22552 non-null object\n",
      "property_type                       22552 non-null object\n",
      "room_type                           22552 non-null object\n",
      "accommodates                        22552 non-null int64\n",
      "bathrooms                           22520 non-null float64\n",
      "bedrooms                            22534 non-null float64\n",
      "beds                                22512 non-null float64\n",
      "bed_type                            22552 non-null object\n",
      "amenities                           22552 non-null object\n",
      "square_feet                         446 non-null float64\n",
      "price                               22552 non-null object\n",
      "weekly_price                        3681 non-null object\n",
      "monthly_price                       2659 non-null object\n",
      "security_deposit                    13191 non-null object\n",
      "cleaning_fee                        15406 non-null object\n",
      "guests_included                     22552 non-null int64\n",
      "extra_people                        22552 non-null object\n",
      "minimum_nights                      22552 non-null int64\n",
      "maximum_nights                      22552 non-null int64\n",
      "calendar_updated                    22552 non-null object\n",
      "has_availability                    22552 non-null object\n",
      "availability_30                     22552 non-null int64\n",
      "availability_60                     22552 non-null int64\n",
      "availability_90                     22552 non-null int64\n",
      "availability_365                    22552 non-null int64\n",
      "calendar_last_scraped               22552 non-null object\n",
      "number_of_reviews                   22552 non-null int64\n",
      "first_review                        18638 non-null object\n",
      "last_review                         18644 non-null object\n",
      "review_scores_rating                18163 non-null float64\n",
      "review_scores_accuracy              18138 non-null float64\n",
      "review_scores_cleanliness           18141 non-null float64\n",
      "review_scores_checkin               18120 non-null float64\n",
      "review_scores_communication         18134 non-null float64\n",
      "review_scores_location              18121 non-null float64\n",
      "review_scores_value                 18117 non-null float64\n",
      "requires_license                    22552 non-null object\n",
      "license                             1638 non-null object\n",
      "jurisdiction_names                  0 non-null float64\n",
      "instant_bookable                    22552 non-null object\n",
      "is_business_travel_ready            22552 non-null object\n",
      "cancellation_policy                 22552 non-null object\n",
      "require_guest_profile_picture       22552 non-null object\n",
      "require_guest_phone_verification    22552 non-null object\n",
      "calculated_host_listings_count      22552 non-null int64\n",
      "reviews_per_month                   18638 non-null float64\n",
      "dtypes: float64(21), int64(13), object(62)\n",
      "memory usage: 16.5+ MB\n"
     ]
    }
   ],
   "source": [
    "df.info()"
   ]
  },
  {
   "cell_type": "code",
   "execution_count": 5,
   "metadata": {
    "scrolled": true
   },
   "outputs": [
    {
     "data": {
      "text/plain": [
       "Index(['id', 'listing_url', 'scrape_id', 'last_scraped', 'name', 'summary',\n",
       "       'space', 'description', 'experiences_offered', 'neighborhood_overview',\n",
       "       'notes', 'transit', 'access', 'interaction', 'house_rules',\n",
       "       'thumbnail_url', 'medium_url', 'picture_url', 'xl_picture_url',\n",
       "       'host_id', 'host_url', 'host_name', 'host_since', 'host_location',\n",
       "       'host_about', 'host_response_time', 'host_response_rate',\n",
       "       'host_acceptance_rate', 'host_is_superhost', 'host_thumbnail_url',\n",
       "       'host_picture_url', 'host_neighbourhood', 'host_listings_count',\n",
       "       'host_total_listings_count', 'host_verifications',\n",
       "       'host_has_profile_pic', 'host_identity_verified', 'street',\n",
       "       'neighbourhood', 'neighbourhood_cleansed',\n",
       "       'neighbourhood_group_cleansed', 'city', 'state', 'zipcode', 'market',\n",
       "       'smart_location', 'country_code', 'country', 'latitude', 'longitude',\n",
       "       'is_location_exact', 'property_type', 'room_type', 'accommodates',\n",
       "       'bathrooms', 'bedrooms', 'beds', 'bed_type', 'amenities', 'square_feet',\n",
       "       'price', 'weekly_price', 'monthly_price', 'security_deposit',\n",
       "       'cleaning_fee', 'guests_included', 'extra_people', 'minimum_nights',\n",
       "       'maximum_nights', 'calendar_updated', 'has_availability',\n",
       "       'availability_30', 'availability_60', 'availability_90',\n",
       "       'availability_365', 'calendar_last_scraped', 'number_of_reviews',\n",
       "       'first_review', 'last_review', 'review_scores_rating',\n",
       "       'review_scores_accuracy', 'review_scores_cleanliness',\n",
       "       'review_scores_checkin', 'review_scores_communication',\n",
       "       'review_scores_location', 'review_scores_value', 'requires_license',\n",
       "       'license', 'jurisdiction_names', 'instant_bookable',\n",
       "       'is_business_travel_ready', 'cancellation_policy',\n",
       "       'require_guest_profile_picture', 'require_guest_phone_verification',\n",
       "       'calculated_host_listings_count', 'reviews_per_month'],\n",
       "      dtype='object')"
      ]
     },
     "execution_count": 5,
     "metadata": {},
     "output_type": "execute_result"
    }
   ],
   "source": [
    "df.columns"
   ]
  },
  {
   "cell_type": "code",
   "execution_count": 6,
   "metadata": {},
   "outputs": [
    {
     "data": {
      "text/plain": [
       "RangeIndex(start=0, stop=22552, step=1)"
      ]
     },
     "execution_count": 6,
     "metadata": {},
     "output_type": "execute_result"
    }
   ],
   "source": [
    "df.index"
   ]
  },
  {
   "cell_type": "markdown",
   "metadata": {},
   "source": [
    "## 2. Preprocessing the Data"
   ]
  },
  {
   "cell_type": "markdown",
   "metadata": {},
   "source": [
    "Usually, fixed features of the property include the rooms/size/location etc. We also can decide on how we want to be listed: with a picture or not, how many minimum nights we want a guest to stay, whether we are instantly bookable, how we handle cancellations, etc. But we can neither be a \"super host\", nor do we have any reviews yet to show - although they can be very important for setting a price. So, let's focus only on features we can influence:"
   ]
  },
  {
   "cell_type": "code",
   "execution_count": 7,
   "metadata": {},
   "outputs": [
    {
     "data": {
      "text/html": [
       "<div>\n",
       "<style scoped>\n",
       "    .dataframe tbody tr th:only-of-type {\n",
       "        vertical-align: middle;\n",
       "    }\n",
       "\n",
       "    .dataframe tbody tr th {\n",
       "        vertical-align: top;\n",
       "    }\n",
       "\n",
       "    .dataframe thead th {\n",
       "        text-align: right;\n",
       "    }\n",
       "</style>\n",
       "<table border=\"1\" class=\"dataframe\">\n",
       "  <thead>\n",
       "    <tr style=\"text-align: right;\">\n",
       "      <th></th>\n",
       "      <th>space</th>\n",
       "      <th>description</th>\n",
       "      <th>host_has_profile_pic</th>\n",
       "      <th>neighbourhood_group_cleansed</th>\n",
       "      <th>latitude</th>\n",
       "      <th>longitude</th>\n",
       "      <th>property_type</th>\n",
       "      <th>room_type</th>\n",
       "      <th>accommodates</th>\n",
       "      <th>bathrooms</th>\n",
       "      <th>...</th>\n",
       "      <th>price</th>\n",
       "      <th>cleaning_fee</th>\n",
       "      <th>security_deposit</th>\n",
       "      <th>extra_people</th>\n",
       "      <th>guests_included</th>\n",
       "      <th>minimum_nights</th>\n",
       "      <th>instant_bookable</th>\n",
       "      <th>is_business_travel_ready</th>\n",
       "      <th>cancellation_policy</th>\n",
       "      <th>host_is_superhost</th>\n",
       "    </tr>\n",
       "    <tr>\n",
       "      <th>id</th>\n",
       "      <th></th>\n",
       "      <th></th>\n",
       "      <th></th>\n",
       "      <th></th>\n",
       "      <th></th>\n",
       "      <th></th>\n",
       "      <th></th>\n",
       "      <th></th>\n",
       "      <th></th>\n",
       "      <th></th>\n",
       "      <th></th>\n",
       "      <th></th>\n",
       "      <th></th>\n",
       "      <th></th>\n",
       "      <th></th>\n",
       "      <th></th>\n",
       "      <th></th>\n",
       "      <th></th>\n",
       "      <th></th>\n",
       "      <th></th>\n",
       "      <th></th>\n",
       "    </tr>\n",
       "  </thead>\n",
       "  <tbody>\n",
       "    <tr>\n",
       "      <td>2015</td>\n",
       "      <td>A+++ location! This „Einliegerwohnung“ is an e...</td>\n",
       "      <td>Great location!  30 of 75 sq meters. This wood...</td>\n",
       "      <td>t</td>\n",
       "      <td>Mitte</td>\n",
       "      <td>52.534537</td>\n",
       "      <td>13.402557</td>\n",
       "      <td>Guesthouse</td>\n",
       "      <td>Entire home/apt</td>\n",
       "      <td>3</td>\n",
       "      <td>1.0</td>\n",
       "      <td>...</td>\n",
       "      <td>$60.00</td>\n",
       "      <td>$30.00</td>\n",
       "      <td>$200.00</td>\n",
       "      <td>$28.00</td>\n",
       "      <td>1</td>\n",
       "      <td>4</td>\n",
       "      <td>f</td>\n",
       "      <td>f</td>\n",
       "      <td>strict_14_with_grace_period</td>\n",
       "      <td>t</td>\n",
       "    </tr>\n",
       "    <tr>\n",
       "      <td>2695</td>\n",
       "      <td>In the summertime we are spending most of our ...</td>\n",
       "      <td>In the summertime we are spending most of our ...</td>\n",
       "      <td>t</td>\n",
       "      <td>Pankow</td>\n",
       "      <td>52.548513</td>\n",
       "      <td>13.404553</td>\n",
       "      <td>Apartment</td>\n",
       "      <td>Private room</td>\n",
       "      <td>2</td>\n",
       "      <td>1.0</td>\n",
       "      <td>...</td>\n",
       "      <td>$17.00</td>\n",
       "      <td>$0.00</td>\n",
       "      <td>$0.00</td>\n",
       "      <td>$0.00</td>\n",
       "      <td>1</td>\n",
       "      <td>2</td>\n",
       "      <td>f</td>\n",
       "      <td>f</td>\n",
       "      <td>flexible</td>\n",
       "      <td>f</td>\n",
       "    </tr>\n",
       "    <tr>\n",
       "      <td>3176</td>\n",
       "      <td>1st floor (68m2) apartment on Kollwitzplatz/ P...</td>\n",
       "      <td>This beautiful first floor apartment  is situa...</td>\n",
       "      <td>t</td>\n",
       "      <td>Pankow</td>\n",
       "      <td>52.534996</td>\n",
       "      <td>13.417579</td>\n",
       "      <td>Apartment</td>\n",
       "      <td>Entire home/apt</td>\n",
       "      <td>4</td>\n",
       "      <td>1.0</td>\n",
       "      <td>...</td>\n",
       "      <td>$90.00</td>\n",
       "      <td>$50.00</td>\n",
       "      <td>$200.00</td>\n",
       "      <td>$20.00</td>\n",
       "      <td>2</td>\n",
       "      <td>62</td>\n",
       "      <td>t</td>\n",
       "      <td>f</td>\n",
       "      <td>strict_14_with_grace_period</td>\n",
       "      <td>f</td>\n",
       "    </tr>\n",
       "    <tr>\n",
       "      <td>3309</td>\n",
       "      <td>Your room is really big and has 26 sqm, is ver...</td>\n",
       "      <td>First of all: I prefer short-notice bookings. ...</td>\n",
       "      <td>t</td>\n",
       "      <td>Tempelhof - Schöneberg</td>\n",
       "      <td>52.498855</td>\n",
       "      <td>13.349065</td>\n",
       "      <td>Apartment</td>\n",
       "      <td>Private room</td>\n",
       "      <td>2</td>\n",
       "      <td>1.0</td>\n",
       "      <td>...</td>\n",
       "      <td>$26.00</td>\n",
       "      <td>$30.00</td>\n",
       "      <td>$250.00</td>\n",
       "      <td>$18.00</td>\n",
       "      <td>1</td>\n",
       "      <td>5</td>\n",
       "      <td>f</td>\n",
       "      <td>f</td>\n",
       "      <td>strict_14_with_grace_period</td>\n",
       "      <td>f</td>\n",
       "    </tr>\n",
       "    <tr>\n",
       "      <td>7071</td>\n",
       "      <td>The BrightRoom is an approx. 20 sqm (215ft²), ...</td>\n",
       "      <td>Cozy and large room in the beautiful district ...</td>\n",
       "      <td>t</td>\n",
       "      <td>Pankow</td>\n",
       "      <td>52.543157</td>\n",
       "      <td>13.415091</td>\n",
       "      <td>Apartment</td>\n",
       "      <td>Private room</td>\n",
       "      <td>2</td>\n",
       "      <td>1.0</td>\n",
       "      <td>...</td>\n",
       "      <td>$42.00</td>\n",
       "      <td>$0.00</td>\n",
       "      <td>$0.00</td>\n",
       "      <td>$24.00</td>\n",
       "      <td>1</td>\n",
       "      <td>2</td>\n",
       "      <td>f</td>\n",
       "      <td>f</td>\n",
       "      <td>moderate</td>\n",
       "      <td>t</td>\n",
       "    </tr>\n",
       "  </tbody>\n",
       "</table>\n",
       "<p>5 rows × 24 columns</p>\n",
       "</div>"
      ],
      "text/plain": [
       "                                                  space  \\\n",
       "id                                                        \n",
       "2015  A+++ location! This „Einliegerwohnung“ is an e...   \n",
       "2695  In the summertime we are spending most of our ...   \n",
       "3176  1st floor (68m2) apartment on Kollwitzplatz/ P...   \n",
       "3309  Your room is really big and has 26 sqm, is ver...   \n",
       "7071  The BrightRoom is an approx. 20 sqm (215ft²), ...   \n",
       "\n",
       "                                            description host_has_profile_pic  \\\n",
       "id                                                                             \n",
       "2015  Great location!  30 of 75 sq meters. This wood...                    t   \n",
       "2695  In the summertime we are spending most of our ...                    t   \n",
       "3176  This beautiful first floor apartment  is situa...                    t   \n",
       "3309  First of all: I prefer short-notice bookings. ...                    t   \n",
       "7071  Cozy and large room in the beautiful district ...                    t   \n",
       "\n",
       "     neighbourhood_group_cleansed   latitude  longitude property_type  \\\n",
       "id                                                                      \n",
       "2015                        Mitte  52.534537  13.402557    Guesthouse   \n",
       "2695                       Pankow  52.548513  13.404553     Apartment   \n",
       "3176                       Pankow  52.534996  13.417579     Apartment   \n",
       "3309       Tempelhof - Schöneberg  52.498855  13.349065     Apartment   \n",
       "7071                       Pankow  52.543157  13.415091     Apartment   \n",
       "\n",
       "            room_type  accommodates  bathrooms  ...   price cleaning_fee  \\\n",
       "id                                              ...                        \n",
       "2015  Entire home/apt             3        1.0  ...  $60.00       $30.00   \n",
       "2695     Private room             2        1.0  ...  $17.00        $0.00   \n",
       "3176  Entire home/apt             4        1.0  ...  $90.00       $50.00   \n",
       "3309     Private room             2        1.0  ...  $26.00       $30.00   \n",
       "7071     Private room             2        1.0  ...  $42.00        $0.00   \n",
       "\n",
       "     security_deposit  extra_people guests_included minimum_nights  \\\n",
       "id                                                                   \n",
       "2015          $200.00        $28.00               1              4   \n",
       "2695            $0.00         $0.00               1              2   \n",
       "3176          $200.00        $20.00               2             62   \n",
       "3309          $250.00        $18.00               1              5   \n",
       "7071            $0.00        $24.00               1              2   \n",
       "\n",
       "     instant_bookable is_business_travel_ready          cancellation_policy  \\\n",
       "id                                                                            \n",
       "2015                f                        f  strict_14_with_grace_period   \n",
       "2695                f                        f                     flexible   \n",
       "3176                t                        f  strict_14_with_grace_period   \n",
       "3309                f                        f  strict_14_with_grace_period   \n",
       "7071                f                        f                     moderate   \n",
       "\n",
       "      host_is_superhost  \n",
       "id                       \n",
       "2015                  t  \n",
       "2695                  f  \n",
       "3176                  f  \n",
       "3309                  f  \n",
       "7071                  t  \n",
       "\n",
       "[5 rows x 24 columns]"
      ]
     },
     "execution_count": 7,
     "metadata": {},
     "output_type": "execute_result"
    }
   ],
   "source": [
    "# keeping the columns that we will need\n",
    "\n",
    "data_columns_needed= ['id', 'space', 'description', 'host_has_profile_pic', 'neighbourhood_group_cleansed', \n",
    "                   'latitude', 'longitude', 'property_type', 'room_type', 'accommodates', 'bathrooms',  \n",
    "                   'bedrooms', 'bed_type', 'amenities', 'square_feet', 'price', 'cleaning_fee', \n",
    "                   'security_deposit', 'extra_people', 'guests_included', 'minimum_nights',  \n",
    "                   'instant_bookable', 'is_business_travel_ready', 'cancellation_policy','host_is_superhost']\n",
    "\n",
    "df_revised_columns = df[data_columns_needed].set_index('id')\n",
    "df_revised_columns.head()"
   ]
  },
  {
   "cell_type": "code",
   "execution_count": 8,
   "metadata": {},
   "outputs": [
    {
     "data": {
      "text/plain": [
       "(22552, 24)"
      ]
     },
     "execution_count": 8,
     "metadata": {},
     "output_type": "execute_result"
    }
   ],
   "source": [
    "df_revised_columns.shape"
   ]
  },
  {
   "cell_type": "code",
   "execution_count": 9,
   "metadata": {},
   "outputs": [
    {
     "data": {
      "text/plain": [
       "space                            8532\n",
       "description                       203\n",
       "host_has_profile_pic               26\n",
       "neighbourhood_group_cleansed        0\n",
       "latitude                            0\n",
       "longitude                           0\n",
       "property_type                       0\n",
       "room_type                           0\n",
       "accommodates                        0\n",
       "bathrooms                          32\n",
       "bedrooms                           18\n",
       "bed_type                            0\n",
       "amenities                           0\n",
       "square_feet                     22106\n",
       "price                               0\n",
       "cleaning_fee                     7146\n",
       "security_deposit                 9361\n",
       "extra_people                        0\n",
       "guests_included                     0\n",
       "minimum_nights                      0\n",
       "instant_bookable                    0\n",
       "is_business_travel_ready            0\n",
       "cancellation_policy                 0\n",
       "host_is_superhost                  26\n",
       "dtype: int64"
      ]
     },
     "execution_count": 9,
     "metadata": {},
     "output_type": "execute_result"
    }
   ],
   "source": [
    "# To check how many NaN's each column is having\n",
    "df_revised_columns.isna().sum()"
   ]
  },
  {
   "cell_type": "markdown",
   "metadata": {},
   "source": [
    "We can look at different room types of what we are dealing with, since this maybe an important feature in detecting the price."
   ]
  },
  {
   "cell_type": "code",
   "execution_count": 10,
   "metadata": {},
   "outputs": [
    {
     "data": {
      "text/plain": [
       "Private room       0.511440\n",
       "Entire home/apt    0.475435\n",
       "Shared room        0.013125\n",
       "Name: room_type, dtype: float64"
      ]
     },
     "execution_count": 10,
     "metadata": {},
     "output_type": "execute_result"
    }
   ],
   "source": [
    "room_type = df['room_type'].value_counts(normalize=True)\n",
    "room_type"
   ]
  },
  {
   "cell_type": "markdown",
   "metadata": {},
   "source": [
    "Also, we would like to see how many property types are we up against and how many we are dealing with"
   ]
  },
  {
   "cell_type": "code",
   "execution_count": 11,
   "metadata": {},
   "outputs": [
    {
     "data": {
      "text/plain": [
       "Apartment                 0.896816\n",
       "Condominium               0.027137\n",
       "Loft                      0.020397\n",
       "House                     0.017648\n",
       "Serviced apartment        0.007760\n",
       "Hostel                    0.005676\n",
       "Townhouse                 0.004390\n",
       "Guest suite               0.003281\n",
       "Bed and breakfast         0.002838\n",
       "Guesthouse                0.002527\n",
       "Hotel                     0.002217\n",
       "Other                     0.002084\n",
       "Boutique hotel            0.001907\n",
       "Bungalow                  0.000887\n",
       "Boat                      0.000754\n",
       "Tiny house                0.000532\n",
       "Houseboat                 0.000488\n",
       "Camper/RV                 0.000488\n",
       "Villa                     0.000443\n",
       "Aparthotel                0.000310\n",
       "Pension (South Korea)     0.000310\n",
       "Cabin                     0.000266\n",
       "Cottage                   0.000177\n",
       "Resort                    0.000133\n",
       "Train                     0.000089\n",
       "Castle                    0.000089\n",
       "Casa particular (Cuba)    0.000089\n",
       "Barn                      0.000044\n",
       "Cave                      0.000044\n",
       "Tipi                      0.000044\n",
       "In-law                    0.000044\n",
       "Chalet                    0.000044\n",
       "Island                    0.000044\n",
       "Name: property_type, dtype: float64"
      ]
     },
     "execution_count": 11,
     "metadata": {},
     "output_type": "execute_result"
    }
   ],
   "source": [
    "property_type = df['property_type'].value_counts(normalize=True)\n",
    "property_type"
   ]
  },
  {
   "cell_type": "code",
   "execution_count": 12,
   "metadata": {},
   "outputs": [
    {
     "name": "stdout",
     "output_type": "stream",
     "text": [
      "<class 'pandas.core.frame.DataFrame'>\n",
      "Int64Index: 22552 entries, 2015 to 29867352\n",
      "Data columns (total 24 columns):\n",
      "space                           14020 non-null object\n",
      "description                     22349 non-null object\n",
      "host_has_profile_pic            22526 non-null object\n",
      "neighbourhood_group_cleansed    22552 non-null object\n",
      "latitude                        22552 non-null float64\n",
      "longitude                       22552 non-null float64\n",
      "property_type                   22552 non-null object\n",
      "room_type                       22552 non-null object\n",
      "accommodates                    22552 non-null int64\n",
      "bathrooms                       22520 non-null float64\n",
      "bedrooms                        22534 non-null float64\n",
      "bed_type                        22552 non-null object\n",
      "amenities                       22552 non-null object\n",
      "square_feet                     446 non-null float64\n",
      "price                           22552 non-null object\n",
      "cleaning_fee                    15406 non-null object\n",
      "security_deposit                13191 non-null object\n",
      "extra_people                    22552 non-null object\n",
      "guests_included                 22552 non-null int64\n",
      "minimum_nights                  22552 non-null int64\n",
      "instant_bookable                22552 non-null object\n",
      "is_business_travel_ready        22552 non-null object\n",
      "cancellation_policy             22552 non-null object\n",
      "host_is_superhost               22526 non-null object\n",
      "dtypes: float64(5), int64(3), object(16)\n",
      "memory usage: 4.3+ MB\n"
     ]
    }
   ],
   "source": [
    "df_revised_columns.info()"
   ]
  },
  {
   "cell_type": "markdown",
   "metadata": {},
   "source": [
    "We can work on the numerical price columns to see if they will be use to us since they might be the feature we can work on in determining the price for those features. But first we have to view them and then cleaning the columns to change into float values"
   ]
  },
  {
   "cell_type": "code",
   "execution_count": 13,
   "metadata": {},
   "outputs": [
    {
     "data": {
      "text/html": [
       "<div>\n",
       "<style scoped>\n",
       "    .dataframe tbody tr th:only-of-type {\n",
       "        vertical-align: middle;\n",
       "    }\n",
       "\n",
       "    .dataframe tbody tr th {\n",
       "        vertical-align: top;\n",
       "    }\n",
       "\n",
       "    .dataframe thead th {\n",
       "        text-align: right;\n",
       "    }\n",
       "</style>\n",
       "<table border=\"1\" class=\"dataframe\">\n",
       "  <thead>\n",
       "    <tr style=\"text-align: right;\">\n",
       "      <th></th>\n",
       "      <th>price</th>\n",
       "      <th>cleaning_fee</th>\n",
       "      <th>security_deposit</th>\n",
       "      <th>extra_people</th>\n",
       "    </tr>\n",
       "    <tr>\n",
       "      <th>id</th>\n",
       "      <th></th>\n",
       "      <th></th>\n",
       "      <th></th>\n",
       "      <th></th>\n",
       "    </tr>\n",
       "  </thead>\n",
       "  <tbody>\n",
       "    <tr>\n",
       "      <td>2015</td>\n",
       "      <td>$60.00</td>\n",
       "      <td>$30.00</td>\n",
       "      <td>$200.00</td>\n",
       "      <td>$28.00</td>\n",
       "    </tr>\n",
       "    <tr>\n",
       "      <td>2695</td>\n",
       "      <td>$17.00</td>\n",
       "      <td>$0.00</td>\n",
       "      <td>$0.00</td>\n",
       "      <td>$0.00</td>\n",
       "    </tr>\n",
       "  </tbody>\n",
       "</table>\n",
       "</div>"
      ],
      "text/plain": [
       "       price cleaning_fee security_deposit extra_people\n",
       "id                                                     \n",
       "2015  $60.00       $30.00          $200.00       $28.00\n",
       "2695  $17.00        $0.00            $0.00        $0.00"
      ]
     },
     "execution_count": 13,
     "metadata": {},
     "output_type": "execute_result"
    }
   ],
   "source": [
    "df_revised_columns[['price', 'cleaning_fee', 'security_deposit', 'extra_people']].head(2)"
   ]
  },
  {
   "cell_type": "markdown",
   "metadata": {},
   "source": [
    "We will check if the price column has any missing values so that it can be useful to us"
   ]
  },
  {
   "cell_type": "code",
   "execution_count": 14,
   "metadata": {},
   "outputs": [
    {
     "data": {
      "text/plain": [
       "0"
      ]
     },
     "execution_count": 14,
     "metadata": {},
     "output_type": "execute_result"
    }
   ],
   "source": [
    "# checking for missing values/NaN's in price column\n",
    "\n",
    "df_revised_columns['price'].isna().sum()"
   ]
  },
  {
   "cell_type": "markdown",
   "metadata": {},
   "source": [
    "Similarly, we can check for other columns too for missing values"
   ]
  },
  {
   "cell_type": "code",
   "execution_count": 15,
   "metadata": {},
   "outputs": [
    {
     "data": {
      "text/plain": [
       "7146"
      ]
     },
     "execution_count": 15,
     "metadata": {},
     "output_type": "execute_result"
    }
   ],
   "source": [
    "# checking for missing values/NaN's in cleaning fee column\n",
    "\n",
    "df_revised_columns['cleaning_fee'].isna().sum()"
   ]
  },
  {
   "cell_type": "markdown",
   "metadata": {},
   "source": [
    "Looking at the number, we can probably assume that the owners/hosts do not charge for any cleaning fees. SO we can replace these NaN's with simply, 0's. Let's do that"
   ]
  },
  {
   "cell_type": "code",
   "execution_count": 16,
   "metadata": {},
   "outputs": [],
   "source": [
    "df_revised_columns['cleaning_fee'].fillna('$0.00', inplace=True)"
   ]
  },
  {
   "cell_type": "code",
   "execution_count": 17,
   "metadata": {},
   "outputs": [
    {
     "data": {
      "text/plain": [
       "0"
      ]
     },
     "execution_count": 17,
     "metadata": {},
     "output_type": "execute_result"
    }
   ],
   "source": [
    "df_revised_columns['cleaning_fee'].isna().sum()"
   ]
  },
  {
   "cell_type": "markdown",
   "metadata": {},
   "source": [
    "We will now check the security deposit column. If we see any NaN's , then we probably can assume the same thing that the owners do not charge anything extra for this."
   ]
  },
  {
   "cell_type": "code",
   "execution_count": 18,
   "metadata": {},
   "outputs": [
    {
     "data": {
      "text/plain": [
       "9361"
      ]
     },
     "execution_count": 18,
     "metadata": {},
     "output_type": "execute_result"
    }
   ],
   "source": [
    "df_revised_columns['security_deposit'].isna().sum()"
   ]
  },
  {
   "cell_type": "code",
   "execution_count": 19,
   "metadata": {},
   "outputs": [],
   "source": [
    "df_revised_columns['security_deposit'].fillna('$0.00', inplace=True)"
   ]
  },
  {
   "cell_type": "code",
   "execution_count": 20,
   "metadata": {},
   "outputs": [
    {
     "data": {
      "text/plain": [
       "0"
      ]
     },
     "execution_count": 20,
     "metadata": {},
     "output_type": "execute_result"
    }
   ],
   "source": [
    "df_revised_columns['security_deposit'].isna().sum()"
   ]
  },
  {
   "cell_type": "code",
   "execution_count": 21,
   "metadata": {},
   "outputs": [
    {
     "data": {
      "text/plain": [
       "0"
      ]
     },
     "execution_count": 21,
     "metadata": {},
     "output_type": "execute_result"
    }
   ],
   "source": [
    "df_revised_columns['extra_people'].isna().sum()"
   ]
  },
  {
   "cell_type": "markdown",
   "metadata": {},
   "source": [
    "Since I have now removed any missing values or replaced them with 0's, it can be now converted from string to float(numerical) values, since it was originally an object."
   ]
  },
  {
   "cell_type": "code",
   "execution_count": 22,
   "metadata": {},
   "outputs": [],
   "source": [
    "# cleaning columns by method chaining\n",
    "\n",
    "df_revised_columns['security_deposit'] = df_revised_columns['security_deposit'].str.replace('$','').str.replace(',', '').astype('float')\n",
    "df_revised_columns['extra_people'] = df_revised_columns['extra_people'].str.replace('$','').str.replace(',', '').astype('float')\n",
    "df_revised_columns['cleaning_fee'] = df_revised_columns['cleaning_fee'].str.replace('$','').str.replace(',', '').astype('float')\n",
    "df_revised_columns['price'] = df_revised_columns['price'].str.replace('$','').str.replace(',', '').astype('float')"
   ]
  },
  {
   "cell_type": "code",
   "execution_count": 23,
   "metadata": {},
   "outputs": [
    {
     "data": {
      "text/html": [
       "<div>\n",
       "<style scoped>\n",
       "    .dataframe tbody tr th:only-of-type {\n",
       "        vertical-align: middle;\n",
       "    }\n",
       "\n",
       "    .dataframe tbody tr th {\n",
       "        vertical-align: top;\n",
       "    }\n",
       "\n",
       "    .dataframe thead th {\n",
       "        text-align: right;\n",
       "    }\n",
       "</style>\n",
       "<table border=\"1\" class=\"dataframe\">\n",
       "  <thead>\n",
       "    <tr style=\"text-align: right;\">\n",
       "      <th></th>\n",
       "      <th>price</th>\n",
       "      <th>cleaning_fee</th>\n",
       "      <th>security_deposit</th>\n",
       "      <th>extra_people</th>\n",
       "    </tr>\n",
       "    <tr>\n",
       "      <th>id</th>\n",
       "      <th></th>\n",
       "      <th></th>\n",
       "      <th></th>\n",
       "      <th></th>\n",
       "    </tr>\n",
       "  </thead>\n",
       "  <tbody>\n",
       "    <tr>\n",
       "      <td>2015</td>\n",
       "      <td>60.0</td>\n",
       "      <td>30.0</td>\n",
       "      <td>200.0</td>\n",
       "      <td>28.0</td>\n",
       "    </tr>\n",
       "    <tr>\n",
       "      <td>2695</td>\n",
       "      <td>17.0</td>\n",
       "      <td>0.0</td>\n",
       "      <td>0.0</td>\n",
       "      <td>0.0</td>\n",
       "    </tr>\n",
       "  </tbody>\n",
       "</table>\n",
       "</div>"
      ],
      "text/plain": [
       "      price  cleaning_fee  security_deposit  extra_people\n",
       "id                                                       \n",
       "2015   60.0          30.0             200.0          28.0\n",
       "2695   17.0           0.0               0.0           0.0"
      ]
     },
     "execution_count": 23,
     "metadata": {},
     "output_type": "execute_result"
    }
   ],
   "source": [
    "df_revised_columns[['price', 'cleaning_fee', 'security_deposit', 'extra_people']].head(2)"
   ]
  },
  {
   "cell_type": "code",
   "execution_count": 24,
   "metadata": {},
   "outputs": [
    {
     "data": {
      "text/plain": [
       "30.0     1387\n",
       "35.0     1256\n",
       "50.0     1247\n",
       "40.0     1191\n",
       "25.0     1121\n",
       "         ... \n",
       "268.0       1\n",
       "375.0       1\n",
       "188.0       1\n",
       "228.0       1\n",
       "263.0       1\n",
       "Name: price, Length: 295, dtype: int64"
      ]
     },
     "execution_count": 24,
     "metadata": {},
     "output_type": "execute_result"
    }
   ],
   "source": [
    "df_revised_columns['price'].value_counts()"
   ]
  },
  {
   "cell_type": "code",
   "execution_count": 25,
   "metadata": {},
   "outputs": [
    {
     "data": {
      "text/html": [
       "<div>\n",
       "<style scoped>\n",
       "    .dataframe tbody tr th:only-of-type {\n",
       "        vertical-align: middle;\n",
       "    }\n",
       "\n",
       "    .dataframe tbody tr th {\n",
       "        vertical-align: top;\n",
       "    }\n",
       "\n",
       "    .dataframe thead th {\n",
       "        text-align: right;\n",
       "    }\n",
       "</style>\n",
       "<table border=\"1\" class=\"dataframe\">\n",
       "  <thead>\n",
       "    <tr style=\"text-align: right;\">\n",
       "      <th></th>\n",
       "      <th>space</th>\n",
       "      <th>description</th>\n",
       "      <th>host_has_profile_pic</th>\n",
       "      <th>neighbourhood_group_cleansed</th>\n",
       "      <th>latitude</th>\n",
       "      <th>longitude</th>\n",
       "      <th>property_type</th>\n",
       "      <th>room_type</th>\n",
       "      <th>accommodates</th>\n",
       "      <th>bathrooms</th>\n",
       "      <th>...</th>\n",
       "      <th>cleaning_fee</th>\n",
       "      <th>security_deposit</th>\n",
       "      <th>extra_people</th>\n",
       "      <th>guests_included</th>\n",
       "      <th>minimum_nights</th>\n",
       "      <th>instant_bookable</th>\n",
       "      <th>is_business_travel_ready</th>\n",
       "      <th>cancellation_policy</th>\n",
       "      <th>host_is_superhost</th>\n",
       "      <th>Total_price</th>\n",
       "    </tr>\n",
       "    <tr>\n",
       "      <th>id</th>\n",
       "      <th></th>\n",
       "      <th></th>\n",
       "      <th></th>\n",
       "      <th></th>\n",
       "      <th></th>\n",
       "      <th></th>\n",
       "      <th></th>\n",
       "      <th></th>\n",
       "      <th></th>\n",
       "      <th></th>\n",
       "      <th></th>\n",
       "      <th></th>\n",
       "      <th></th>\n",
       "      <th></th>\n",
       "      <th></th>\n",
       "      <th></th>\n",
       "      <th></th>\n",
       "      <th></th>\n",
       "      <th></th>\n",
       "      <th></th>\n",
       "      <th></th>\n",
       "    </tr>\n",
       "  </thead>\n",
       "  <tbody>\n",
       "    <tr>\n",
       "      <td>2015</td>\n",
       "      <td>A+++ location! This „Einliegerwohnung“ is an e...</td>\n",
       "      <td>Great location!  30 of 75 sq meters. This wood...</td>\n",
       "      <td>t</td>\n",
       "      <td>Mitte</td>\n",
       "      <td>52.534537</td>\n",
       "      <td>13.402557</td>\n",
       "      <td>Guesthouse</td>\n",
       "      <td>Entire home/apt</td>\n",
       "      <td>3</td>\n",
       "      <td>1.0</td>\n",
       "      <td>...</td>\n",
       "      <td>30.0</td>\n",
       "      <td>200.0</td>\n",
       "      <td>28.0</td>\n",
       "      <td>1</td>\n",
       "      <td>4</td>\n",
       "      <td>f</td>\n",
       "      <td>f</td>\n",
       "      <td>strict_14_with_grace_period</td>\n",
       "      <td>t</td>\n",
       "      <td>318.0</td>\n",
       "    </tr>\n",
       "    <tr>\n",
       "      <td>2695</td>\n",
       "      <td>In the summertime we are spending most of our ...</td>\n",
       "      <td>In the summertime we are spending most of our ...</td>\n",
       "      <td>t</td>\n",
       "      <td>Pankow</td>\n",
       "      <td>52.548513</td>\n",
       "      <td>13.404553</td>\n",
       "      <td>Apartment</td>\n",
       "      <td>Private room</td>\n",
       "      <td>2</td>\n",
       "      <td>1.0</td>\n",
       "      <td>...</td>\n",
       "      <td>0.0</td>\n",
       "      <td>0.0</td>\n",
       "      <td>0.0</td>\n",
       "      <td>1</td>\n",
       "      <td>2</td>\n",
       "      <td>f</td>\n",
       "      <td>f</td>\n",
       "      <td>flexible</td>\n",
       "      <td>f</td>\n",
       "      <td>17.0</td>\n",
       "    </tr>\n",
       "  </tbody>\n",
       "</table>\n",
       "<p>2 rows × 25 columns</p>\n",
       "</div>"
      ],
      "text/plain": [
       "                                                  space  \\\n",
       "id                                                        \n",
       "2015  A+++ location! This „Einliegerwohnung“ is an e...   \n",
       "2695  In the summertime we are spending most of our ...   \n",
       "\n",
       "                                            description host_has_profile_pic  \\\n",
       "id                                                                             \n",
       "2015  Great location!  30 of 75 sq meters. This wood...                    t   \n",
       "2695  In the summertime we are spending most of our ...                    t   \n",
       "\n",
       "     neighbourhood_group_cleansed   latitude  longitude property_type  \\\n",
       "id                                                                      \n",
       "2015                        Mitte  52.534537  13.402557    Guesthouse   \n",
       "2695                       Pankow  52.548513  13.404553     Apartment   \n",
       "\n",
       "            room_type  accommodates  bathrooms  ...  cleaning_fee  \\\n",
       "id                                              ...                 \n",
       "2015  Entire home/apt             3        1.0  ...          30.0   \n",
       "2695     Private room             2        1.0  ...           0.0   \n",
       "\n",
       "     security_deposit extra_people  guests_included  minimum_nights  \\\n",
       "id                                                                    \n",
       "2015            200.0         28.0                1               4   \n",
       "2695              0.0          0.0                1               2   \n",
       "\n",
       "      instant_bookable  is_business_travel_ready          cancellation_policy  \\\n",
       "id                                                                              \n",
       "2015                 f                         f  strict_14_with_grace_period   \n",
       "2695                 f                         f                     flexible   \n",
       "\n",
       "      host_is_superhost  Total_price  \n",
       "id                                    \n",
       "2015                  t        318.0  \n",
       "2695                  f         17.0  \n",
       "\n",
       "[2 rows x 25 columns]"
      ]
     },
     "execution_count": 25,
     "metadata": {},
     "output_type": "execute_result"
    }
   ],
   "source": [
    "df_revised_columns['Total_price'] = df_revised_columns[['price','cleaning_fee','security_deposit', 'extra_people']].sum(axis=1)\n",
    "df_revised_columns.head(2)"
   ]
  },
  {
   "cell_type": "code",
   "execution_count": 26,
   "metadata": {},
   "outputs": [],
   "source": [
    "avg_price_roomtype= df_revised_columns.groupby(['room_type'])['price'].agg(np.mean)"
   ]
  },
  {
   "cell_type": "code",
   "execution_count": 27,
   "metadata": {},
   "outputs": [
    {
     "data": {
      "image/png": "[encoded data removed]",
      "text/plain": [
       "<Figure size 432x360 with 1 Axes>"
      ]
     },
     "metadata": {
      "needs_background": "light"
     },
     "output_type": "display_data"
    }
   ],
   "source": [
    "# Plotting the average price by room type\n",
    "\n",
    "avg_price_roomtype.plot(kind='bar', color='green', figsize = (6,5), fontsize = 12)\n",
    "plt.title('Average Price based on Room Type')\n",
    "plt.xlabel('Room Type')\n",
    "plt.ylabel('Avg Price ($)')\n",
    "plt.show()"
   ]
  },
  {
   "cell_type": "markdown",
   "metadata": {},
   "source": [
    "From the above graph, it is evident that the **Entire home/apt** has the highest average price. So we can consider this for taking into our model later."
   ]
  },
  {
   "cell_type": "code",
   "execution_count": 28,
   "metadata": {},
   "outputs": [
    {
     "data": {
      "text/html": [
       "<div>\n",
       "<style scoped>\n",
       "    .dataframe tbody tr th:only-of-type {\n",
       "        vertical-align: middle;\n",
       "    }\n",
       "\n",
       "    .dataframe tbody tr th {\n",
       "        vertical-align: top;\n",
       "    }\n",
       "\n",
       "    .dataframe thead th {\n",
       "        text-align: right;\n",
       "    }\n",
       "</style>\n",
       "<table border=\"1\" class=\"dataframe\">\n",
       "  <thead>\n",
       "    <tr style=\"text-align: right;\">\n",
       "      <th></th>\n",
       "      <th>space</th>\n",
       "      <th>description</th>\n",
       "      <th>host_has_profile_pic</th>\n",
       "      <th>neighbourhood_group_cleansed</th>\n",
       "      <th>latitude</th>\n",
       "      <th>longitude</th>\n",
       "      <th>property_type</th>\n",
       "      <th>accommodates</th>\n",
       "      <th>bathrooms</th>\n",
       "      <th>bedrooms</th>\n",
       "      <th>...</th>\n",
       "      <th>guests_included</th>\n",
       "      <th>minimum_nights</th>\n",
       "      <th>instant_bookable</th>\n",
       "      <th>is_business_travel_ready</th>\n",
       "      <th>cancellation_policy</th>\n",
       "      <th>host_is_superhost</th>\n",
       "      <th>Total_price</th>\n",
       "      <th>Entire home/apt</th>\n",
       "      <th>Private room</th>\n",
       "      <th>Shared room</th>\n",
       "    </tr>\n",
       "    <tr>\n",
       "      <th>id</th>\n",
       "      <th></th>\n",
       "      <th></th>\n",
       "      <th></th>\n",
       "      <th></th>\n",
       "      <th></th>\n",
       "      <th></th>\n",
       "      <th></th>\n",
       "      <th></th>\n",
       "      <th></th>\n",
       "      <th></th>\n",
       "      <th></th>\n",
       "      <th></th>\n",
       "      <th></th>\n",
       "      <th></th>\n",
       "      <th></th>\n",
       "      <th></th>\n",
       "      <th></th>\n",
       "      <th></th>\n",
       "      <th></th>\n",
       "      <th></th>\n",
       "      <th></th>\n",
       "    </tr>\n",
       "  </thead>\n",
       "  <tbody>\n",
       "    <tr>\n",
       "      <td>2015</td>\n",
       "      <td>A+++ location! This „Einliegerwohnung“ is an e...</td>\n",
       "      <td>Great location!  30 of 75 sq meters. This wood...</td>\n",
       "      <td>t</td>\n",
       "      <td>Mitte</td>\n",
       "      <td>52.534537</td>\n",
       "      <td>13.402557</td>\n",
       "      <td>Guesthouse</td>\n",
       "      <td>3</td>\n",
       "      <td>1.0</td>\n",
       "      <td>1.0</td>\n",
       "      <td>...</td>\n",
       "      <td>1</td>\n",
       "      <td>4</td>\n",
       "      <td>f</td>\n",
       "      <td>f</td>\n",
       "      <td>strict_14_with_grace_period</td>\n",
       "      <td>t</td>\n",
       "      <td>318.0</td>\n",
       "      <td>1</td>\n",
       "      <td>0</td>\n",
       "      <td>0</td>\n",
       "    </tr>\n",
       "    <tr>\n",
       "      <td>2695</td>\n",
       "      <td>In the summertime we are spending most of our ...</td>\n",
       "      <td>In the summertime we are spending most of our ...</td>\n",
       "      <td>t</td>\n",
       "      <td>Pankow</td>\n",
       "      <td>52.548513</td>\n",
       "      <td>13.404553</td>\n",
       "      <td>Apartment</td>\n",
       "      <td>2</td>\n",
       "      <td>1.0</td>\n",
       "      <td>1.0</td>\n",
       "      <td>...</td>\n",
       "      <td>1</td>\n",
       "      <td>2</td>\n",
       "      <td>f</td>\n",
       "      <td>f</td>\n",
       "      <td>flexible</td>\n",
       "      <td>f</td>\n",
       "      <td>17.0</td>\n",
       "      <td>0</td>\n",
       "      <td>1</td>\n",
       "      <td>0</td>\n",
       "    </tr>\n",
       "  </tbody>\n",
       "</table>\n",
       "<p>2 rows × 27 columns</p>\n",
       "</div>"
      ],
      "text/plain": [
       "                                                  space  \\\n",
       "id                                                        \n",
       "2015  A+++ location! This „Einliegerwohnung“ is an e...   \n",
       "2695  In the summertime we are spending most of our ...   \n",
       "\n",
       "                                            description host_has_profile_pic  \\\n",
       "id                                                                             \n",
       "2015  Great location!  30 of 75 sq meters. This wood...                    t   \n",
       "2695  In the summertime we are spending most of our ...                    t   \n",
       "\n",
       "     neighbourhood_group_cleansed   latitude  longitude property_type  \\\n",
       "id                                                                      \n",
       "2015                        Mitte  52.534537  13.402557    Guesthouse   \n",
       "2695                       Pankow  52.548513  13.404553     Apartment   \n",
       "\n",
       "      accommodates  bathrooms  bedrooms  ... guests_included minimum_nights  \\\n",
       "id                                       ...                                  \n",
       "2015             3        1.0       1.0  ...               1              4   \n",
       "2695             2        1.0       1.0  ...               1              2   \n",
       "\n",
       "      instant_bookable  is_business_travel_ready          cancellation_policy  \\\n",
       "id                                                                              \n",
       "2015                 f                         f  strict_14_with_grace_period   \n",
       "2695                 f                         f                     flexible   \n",
       "\n",
       "      host_is_superhost  Total_price  Entire home/apt  Private room  \\\n",
       "id                                                                    \n",
       "2015                  t        318.0                1             0   \n",
       "2695                  f         17.0                0             1   \n",
       "\n",
       "     Shared room  \n",
       "id                \n",
       "2015           0  \n",
       "2695           0  \n",
       "\n",
       "[2 rows x 27 columns]"
      ]
     },
     "execution_count": 28,
     "metadata": {},
     "output_type": "execute_result"
    }
   ],
   "source": [
    "# Using get dummies method to extract the three room types into seperate columns for our model\n",
    "\n",
    "df_revised_columns = pd.get_dummies(df_revised_columns, columns=['room_type'])\n",
    "df_revised_columns.rename(columns={'room_type_Entire home/apt': 'Entire home/apt' , 'room_type_Private room': 'Private room' ,  'room_type_Shared room' : 'Shared room'}, inplace=True)\n",
    "df_revised_columns.head(2)"
   ]
  },
  {
   "cell_type": "markdown",
   "metadata": {},
   "source": [
    "Let us investigate the *price* column since this will be our main target feature later on"
   ]
  },
  {
   "cell_type": "code",
   "execution_count": 29,
   "metadata": {},
   "outputs": [
    {
     "data": {
      "text/plain": [
       "count    22552.000000\n",
       "mean        67.143668\n",
       "std        220.266210\n",
       "min          0.000000\n",
       "25%         30.000000\n",
       "50%         45.000000\n",
       "75%         70.000000\n",
       "max       9000.000000\n",
       "Name: price, dtype: float64"
      ]
     },
     "execution_count": 29,
     "metadata": {},
     "output_type": "execute_result"
    }
   ],
   "source": [
    "df_revised_columns['price'].describe()"
   ]
  },
  {
   "cell_type": "code",
   "execution_count": 30,
   "metadata": {},
   "outputs": [
    {
     "data": {
      "text/plain": [
       "<matplotlib.axes._subplots.AxesSubplot at 0x1528097f588>"
      ]
     },
     "execution_count": 30,
     "metadata": {},
     "output_type": "execute_result"
    },
    {
     "data": {
      "image/png": "[encoded data removed]",
      "text/plain": [
       "<Figure size 1440x216 with 1 Axes>"
      ]
     },
     "metadata": {
      "needs_background": "light"
     },
     "output_type": "display_data"
    }
   ],
   "source": [
    "flierprops = dict(marker='.', markerfacecolor='r', markersize=8,\n",
    "                  linestyle='none', markeredgecolor='r')\n",
    "df_revised_columns['price'].plot(kind='box', xlim = (0 , 1000), vert=False, figsize = (20,3) , flierprops = flierprops )"
   ]
  },
  {
   "cell_type": "markdown",
   "metadata": {},
   "source": [
    "From the above boxplot, it is quite evident that 75% of the prices are less than €70 and the mean price is around €67 . But the maximum price showing here is €9000. Also, there are many outliers which seems to fade slowly after €400. Also, there are prices set to zero, which is odd. So we can drop all the outliers after 400 and also which are set to 0."
   ]
  },
  {
   "cell_type": "code",
   "execution_count": 31,
   "metadata": {},
   "outputs": [],
   "source": [
    "df_revised_columns.drop(df_revised_columns[(df_revised_columns['price'] > 400) | (df_revised_columns['price'] == 0)].index, axis=0, inplace=True)"
   ]
  },
  {
   "cell_type": "code",
   "execution_count": 32,
   "metadata": {},
   "outputs": [
    {
     "data": {
      "text/plain": [
       "count    22441.000000\n",
       "mean        57.584377\n",
       "std         42.162006\n",
       "min          1.000000\n",
       "25%         30.000000\n",
       "50%         45.000000\n",
       "75%         70.000000\n",
       "max        400.000000\n",
       "Name: price, dtype: float64"
      ]
     },
     "execution_count": 32,
     "metadata": {},
     "output_type": "execute_result"
    }
   ],
   "source": [
    "df_revised_columns['price'].describe()"
   ]
  },
  {
   "cell_type": "markdown",
   "metadata": {},
   "source": [
    "Check for the missing values"
   ]
  },
  {
   "cell_type": "code",
   "execution_count": 33,
   "metadata": {},
   "outputs": [
    {
     "data": {
      "text/plain": [
       "space                            8503\n",
       "description                       202\n",
       "host_has_profile_pic               25\n",
       "neighbourhood_group_cleansed        0\n",
       "latitude                            0\n",
       "longitude                           0\n",
       "property_type                       0\n",
       "accommodates                        0\n",
       "bathrooms                          32\n",
       "bedrooms                           18\n",
       "bed_type                            0\n",
       "amenities                           0\n",
       "square_feet                     21996\n",
       "price                               0\n",
       "cleaning_fee                        0\n",
       "security_deposit                    0\n",
       "extra_people                        0\n",
       "guests_included                     0\n",
       "minimum_nights                      0\n",
       "instant_bookable                    0\n",
       "is_business_travel_ready            0\n",
       "cancellation_policy                 0\n",
       "host_is_superhost                  25\n",
       "Total_price                         0\n",
       "Entire home/apt                     0\n",
       "Private room                        0\n",
       "Shared room                         0\n",
       "dtype: int64"
      ]
     },
     "execution_count": 33,
     "metadata": {},
     "output_type": "execute_result"
    }
   ],
   "source": [
    "df_revised_columns.isna().sum()"
   ]
  },
  {
   "cell_type": "markdown",
   "metadata": {},
   "source": [
    "We can try to set price ranges on how the listings have been setting the prices. It will be a useful visualization to see."
   ]
  },
  {
   "cell_type": "code",
   "execution_count": 34,
   "metadata": {},
   "outputs": [
    {
     "data": {
      "image/png": "[encoded data removed]",
      "text/plain": [
       "<Figure size 432x288 with 1 Axes>"
      ]
     },
     "metadata": {
      "needs_background": "light"
     },
     "output_type": "display_data"
    }
   ],
   "source": [
    "# Creating price range column\n",
    "price_range = pd.cut(df_revised_columns['price'], \n",
    "                     bins=[0, 20, 40, 60, 80, 100, 120, 140, df_revised_columns[\"price\"].max()], \n",
    "                     labels=[\"0-20\", \"20-40\", \"40-60\", \"60-80\", \"80-100\", \"100-120\", \"120-140\", \"140+\"])\n",
    "df_revised_columns['price_range'] = price_range \n",
    "df_revised_columns['price_range'].value_counts().sort_index().plot(kind='bar')\n",
    "plt.title('Number of listings for price range')\n",
    "plt.show()"
   ]
  },
  {
   "cell_type": "code",
   "execution_count": 35,
   "metadata": {},
   "outputs": [
    {
     "data": {
      "text/plain": [
       "Real Bed         21659\n",
       "Pull-out Sofa      449\n",
       "Futon              240\n",
       "Couch               70\n",
       "Airbed              23\n",
       "Name: bed_type, dtype: int64"
      ]
     },
     "execution_count": 35,
     "metadata": {},
     "output_type": "execute_result"
    }
   ],
   "source": [
    "df_revised_columns['bed_type'].value_counts()"
   ]
  },
  {
   "cell_type": "markdown",
   "metadata": {},
   "source": [
    "Since almost 90% of beds are Real bed, this may not have much significant impact on price."
   ]
  },
  {
   "cell_type": "markdown",
   "metadata": {},
   "source": [
    "## Host impact"
   ]
  },
  {
   "cell_type": "code",
   "execution_count": 36,
   "metadata": {},
   "outputs": [
    {
     "data": {
      "text/plain": [
       "array(['t', 'f', nan], dtype=object)"
      ]
     },
     "execution_count": 36,
     "metadata": {},
     "output_type": "execute_result"
    }
   ],
   "source": [
    "df_revised_columns.host_is_superhost.unique()"
   ]
  },
  {
   "cell_type": "code",
   "execution_count": 37,
   "metadata": {},
   "outputs": [
    {
     "data": {
      "text/plain": [
       "array(['t', 'f', nan], dtype=object)"
      ]
     },
     "execution_count": 37,
     "metadata": {},
     "output_type": "execute_result"
    }
   ],
   "source": [
    "df_revised_columns.host_has_profile_pic.unique()"
   ]
  },
  {
   "cell_type": "code",
   "execution_count": 38,
   "metadata": {},
   "outputs": [
    {
     "data": {
      "text/plain": [
       "host_is_superhost\n",
       "f    56.488907\n",
       "t    64.804617\n",
       "Name: price, dtype: float64"
      ]
     },
     "execution_count": 38,
     "metadata": {},
     "output_type": "execute_result"
    }
   ],
   "source": [
    "avg_price_hostissuperhost= df_revised_columns.groupby(['host_is_superhost'])['price'].agg(np.mean)\n",
    "avg_price_hostissuperhost"
   ]
  },
  {
   "cell_type": "code",
   "execution_count": 39,
   "metadata": {},
   "outputs": [
    {
     "data": {
      "text/plain": [
       "25"
      ]
     },
     "execution_count": 39,
     "metadata": {},
     "output_type": "execute_result"
    }
   ],
   "source": [
    "df_revised_columns['host_is_superhost'].isna().sum()"
   ]
  },
  {
   "cell_type": "code",
   "execution_count": 40,
   "metadata": {},
   "outputs": [
    {
     "data": {
      "text/plain": [
       "25"
      ]
     },
     "execution_count": 40,
     "metadata": {},
     "output_type": "execute_result"
    }
   ],
   "source": [
    "df_revised_columns['host_has_profile_pic'].isna().sum()"
   ]
  },
  {
   "cell_type": "code",
   "execution_count": 41,
   "metadata": {},
   "outputs": [
    {
     "data": {
      "text/plain": [
       "array(['t', 'f'], dtype=object)"
      ]
     },
     "execution_count": 41,
     "metadata": {},
     "output_type": "execute_result"
    }
   ],
   "source": [
    "# replace host_has_profile_pic Nan's with no/false\n",
    "\n",
    "df_revised_columns['host_has_profile_pic'].fillna(value='f', inplace=True)\n",
    "df_revised_columns['host_has_profile_pic'].unique()"
   ]
  },
  {
   "cell_type": "code",
   "execution_count": 42,
   "metadata": {},
   "outputs": [
    {
     "data": {
      "text/plain": [
       "array(['t', 'f'], dtype=object)"
      ]
     },
     "execution_count": 42,
     "metadata": {},
     "output_type": "execute_result"
    }
   ],
   "source": [
    "# replace host_is_superhost Nan's with same as above with no/false\n",
    "\n",
    "df_revised_columns['host_is_superhost'].fillna(value='f', inplace=True)\n",
    "df_revised_columns['host_is_superhost'].unique()"
   ]
  },
  {
   "cell_type": "code",
   "execution_count": 43,
   "metadata": {},
   "outputs": [],
   "source": [
    "df_revised_columns['host_is_superhost'] = df_revised_columns['host_is_superhost'].map({'t':1, 'f':0})"
   ]
  },
  {
   "cell_type": "code",
   "execution_count": 44,
   "metadata": {},
   "outputs": [
    {
     "data": {
      "text/plain": [
       "<matplotlib.axes._subplots.AxesSubplot at 0x15280243348>"
      ]
     },
     "execution_count": 44,
     "metadata": {},
     "output_type": "execute_result"
    },
    {
     "data": {
      "image/png": "[encoded data removed]",
      "text/plain": [
       "<Figure size 432x288 with 1 Axes>"
      ]
     },
     "metadata": {
      "needs_background": "light"
     },
     "output_type": "display_data"
    }
   ],
   "source": [
    "sns.countplot(x='host_is_superhost', data = df_revised_columns)"
   ]
  },
  {
   "cell_type": "code",
   "execution_count": 45,
   "metadata": {},
   "outputs": [],
   "source": [
    "df_revised_columns['host_has_profile_pic'] = df_revised_columns['host_has_profile_pic'].map({'t':1, 'f':0})"
   ]
  },
  {
   "cell_type": "code",
   "execution_count": 46,
   "metadata": {},
   "outputs": [
    {
     "data": {
      "text/plain": [
       "<matplotlib.axes._subplots.AxesSubplot at 0x1528031e208>"
      ]
     },
     "execution_count": 46,
     "metadata": {},
     "output_type": "execute_result"
    },
    {
     "data": {
      "image/png": "[encoded data removed]",
      "text/plain": [
       "<Figure size 432x288 with 1 Axes>"
      ]
     },
     "metadata": {
      "needs_background": "light"
     },
     "output_type": "display_data"
    }
   ],
   "source": [
    "sns.countplot(x='host_has_profile_pic', data = df_revised_columns)"
   ]
  },
  {
   "cell_type": "markdown",
   "metadata": {},
   "source": [
    "We are yet to make sure that the above two columns have any significance on average pricing in the neighbourhood. "
   ]
  },
  {
   "cell_type": "markdown",
   "metadata": {},
   "source": [
    "### Amenities being offered"
   ]
  },
  {
   "cell_type": "markdown",
   "metadata": {},
   "source": [
    "We can check the different amenities being offered by a host and whether that contributes anything significant in determining the price, and if it makes a property more valuable."
   ]
  },
  {
   "cell_type": "code",
   "execution_count": 47,
   "metadata": {},
   "outputs": [],
   "source": [
    "# Introducing a counter to count different amenities produced by the host\n",
    "\n",
    "from collections import Counter"
   ]
  },
  {
   "cell_type": "code",
   "execution_count": 48,
   "metadata": {},
   "outputs": [
    {
     "data": {
      "text/plain": [
       "[('Wifi', 21413),\n",
       " ('Kitchen', 21255),\n",
       " ('Heating', 21111),\n",
       " ('Essentials', 20236),\n",
       " ('Washer', 18428),\n",
       " ('Hair dryer', 14811),\n",
       " ('Laptop friendly workspace', 14387),\n",
       " ('Hangers', 13832),\n",
       " ('Iron', 11134),\n",
       " ('Shampoo', 10586),\n",
       " ('TV', 10051),\n",
       " ('Hot water', 9684),\n",
       " ('Family/kid friendly', 8099),\n",
       " ('Internet', 7881),\n",
       " ('Host greets you', 6639),\n",
       " ('Smoke detector', 6404),\n",
       " ('Buzzer/wireless intercom', 6099),\n",
       " ('Lock on bedroom door', 5265),\n",
       " ('Refrigerator', 5183),\n",
       " ('Free street parking', 5174),\n",
       " ('Dishes and silverware', 5056),\n",
       " ('Cooking basics', 4808),\n",
       " ('Elevator', 4807),\n",
       " ('Bed linens', 4803),\n",
       " ('Stove', 4791),\n",
       " ('Smoking allowed', 4572),\n",
       " ('Oven', 4287),\n",
       " ('translation missing: en.hosting_amenity_50', 4174),\n",
       " ('First aid kit', 3973),\n",
       " ('Cable TV', 3697)]"
      ]
     },
     "execution_count": 48,
     "metadata": {},
     "output_type": "execute_result"
    }
   ],
   "source": [
    "results = Counter()\n",
    "df_revised_columns['amenities'].str.strip('{}')\\\n",
    "               .str.replace('\"', '')\\\n",
    "               .str.lstrip('\\\"')\\\n",
    "               .str.rstrip('\\\"')\\\n",
    "               .str.split(',')\\\n",
    "               .apply(results.update)\n",
    "\n",
    "most_common_amenities= results.most_common(30)\n",
    "most_common_amenities"
   ]
  },
  {
   "cell_type": "code",
   "execution_count": 49,
   "metadata": {},
   "outputs": [],
   "source": [
    "# creating a new df called amenities_df\n",
    "\n",
    "amenities_df = pd.DataFrame(most_common_amenities, columns = ['amenity', 'amenity_count']).sort_values(by=['amenity_count'], ascending=True)"
   ]
  },
  {
   "cell_type": "code",
   "execution_count": 50,
   "metadata": {},
   "outputs": [
    {
     "data": {
      "text/html": [
       "<div>\n",
       "<style scoped>\n",
       "    .dataframe tbody tr th:only-of-type {\n",
       "        vertical-align: middle;\n",
       "    }\n",
       "\n",
       "    .dataframe tbody tr th {\n",
       "        vertical-align: top;\n",
       "    }\n",
       "\n",
       "    .dataframe thead th {\n",
       "        text-align: right;\n",
       "    }\n",
       "</style>\n",
       "<table border=\"1\" class=\"dataframe\">\n",
       "  <thead>\n",
       "    <tr style=\"text-align: right;\">\n",
       "      <th></th>\n",
       "      <th>amenity</th>\n",
       "      <th>amenity_count</th>\n",
       "    </tr>\n",
       "  </thead>\n",
       "  <tbody>\n",
       "    <tr>\n",
       "      <td>29</td>\n",
       "      <td>Cable TV</td>\n",
       "      <td>3697</td>\n",
       "    </tr>\n",
       "    <tr>\n",
       "      <td>28</td>\n",
       "      <td>First aid kit</td>\n",
       "      <td>3973</td>\n",
       "    </tr>\n",
       "    <tr>\n",
       "      <td>27</td>\n",
       "      <td>translation missing: en.hosting_amenity_50</td>\n",
       "      <td>4174</td>\n",
       "    </tr>\n",
       "    <tr>\n",
       "      <td>26</td>\n",
       "      <td>Oven</td>\n",
       "      <td>4287</td>\n",
       "    </tr>\n",
       "    <tr>\n",
       "      <td>25</td>\n",
       "      <td>Smoking allowed</td>\n",
       "      <td>4572</td>\n",
       "    </tr>\n",
       "  </tbody>\n",
       "</table>\n",
       "</div>"
      ],
      "text/plain": [
       "                                       amenity  amenity_count\n",
       "29                                    Cable TV           3697\n",
       "28                               First aid kit           3973\n",
       "27  translation missing: en.hosting_amenity_50           4174\n",
       "26                                        Oven           4287\n",
       "25                             Smoking allowed           4572"
      ]
     },
     "execution_count": 50,
     "metadata": {},
     "output_type": "execute_result"
    }
   ],
   "source": [
    "amenities_df.head()"
   ]
  },
  {
   "cell_type": "code",
   "execution_count": 51,
   "metadata": {},
   "outputs": [
    {
     "data": {
      "text/plain": [
       "Text(0.5, 0, 'count')"
      ]
     },
     "execution_count": 51,
     "metadata": {},
     "output_type": "execute_result"
    },
    {
     "data": {
      "image/png": "[encoded data removed]",
      "text/plain": [
       "<Figure size 864x576 with 1 Axes>"
      ]
     },
     "metadata": {
      "needs_background": "light"
     },
     "output_type": "display_data"
    }
   ],
   "source": [
    "amenities_df.plot(x='amenity', y='amenity_count', kind='barh', figsize = (12,8), legend=False, title= 'Counts of most Frequently used amenities by hosts')\n",
    "plt.xlabel('count')"
   ]
  },
  {
   "cell_type": "code",
   "execution_count": 52,
   "metadata": {},
   "outputs": [
    {
     "data": {
      "text/html": [
       "<div>\n",
       "<style scoped>\n",
       "    .dataframe tbody tr th:only-of-type {\n",
       "        vertical-align: middle;\n",
       "    }\n",
       "\n",
       "    .dataframe tbody tr th {\n",
       "        vertical-align: top;\n",
       "    }\n",
       "\n",
       "    .dataframe thead th {\n",
       "        text-align: right;\n",
       "    }\n",
       "</style>\n",
       "<table border=\"1\" class=\"dataframe\">\n",
       "  <thead>\n",
       "    <tr style=\"text-align: right;\">\n",
       "      <th></th>\n",
       "      <th>amenity_count</th>\n",
       "    </tr>\n",
       "  </thead>\n",
       "  <tbody>\n",
       "    <tr>\n",
       "      <td>count</td>\n",
       "      <td>30.000000</td>\n",
       "    </tr>\n",
       "    <tr>\n",
       "      <td>mean</td>\n",
       "      <td>9421.333333</td>\n",
       "    </tr>\n",
       "    <tr>\n",
       "      <td>std</td>\n",
       "      <td>5948.120714</td>\n",
       "    </tr>\n",
       "    <tr>\n",
       "      <td>min</td>\n",
       "      <td>3697.000000</td>\n",
       "    </tr>\n",
       "    <tr>\n",
       "      <td>25%</td>\n",
       "      <td>4807.250000</td>\n",
       "    </tr>\n",
       "    <tr>\n",
       "      <td>50%</td>\n",
       "      <td>6521.500000</td>\n",
       "    </tr>\n",
       "    <tr>\n",
       "      <td>75%</td>\n",
       "      <td>13157.500000</td>\n",
       "    </tr>\n",
       "    <tr>\n",
       "      <td>max</td>\n",
       "      <td>21413.000000</td>\n",
       "    </tr>\n",
       "  </tbody>\n",
       "</table>\n",
       "</div>"
      ],
      "text/plain": [
       "       amenity_count\n",
       "count      30.000000\n",
       "mean     9421.333333\n",
       "std      5948.120714\n",
       "min      3697.000000\n",
       "25%      4807.250000\n",
       "50%      6521.500000\n",
       "75%     13157.500000\n",
       "max     21413.000000"
      ]
     },
     "execution_count": 52,
     "metadata": {},
     "output_type": "execute_result"
    }
   ],
   "source": [
    "amenities_df.describe()"
   ]
  },
  {
   "cell_type": "markdown",
   "metadata": {},
   "source": [
    "Let us add columns to the revised df on which amenities might be provided by unique hosts and not provided by all hosts, which might have some significance on the price ratings. \n",
    "\n",
    "* Laptop Friendly workspace\n",
    "* TV\n",
    "* Family/Kid Friendly\n",
    "* Host greets you\n",
    "* Smoking allowed"
   ]
  },
  {
   "cell_type": "code",
   "execution_count": 53,
   "metadata": {},
   "outputs": [],
   "source": [
    "df_revised_columns['Laptop_friendly_workspace'] = df_revised_columns['amenities'].str.contains('Laptop Friendly workspace')\n",
    "df_revised_columns['TV'] = df_revised_columns['amenities'].str.contains('TV')\n",
    "df_revised_columns['Family_kid_friendly'] = df_revised_columns['amenities'].str.contains('Family/Kid Friendly')\n",
    "df_revised_columns['Host_greets_you'] = df_revised_columns['amenities'].str.contains('Host greets you')\n",
    "df_revised_columns['Smoking_is_allowed'] = df_revised_columns['amenities'].str.contains('Smoking allowed')"
   ]
  },
  {
   "cell_type": "code",
   "execution_count": 54,
   "metadata": {},
   "outputs": [],
   "source": [
    "df_revised_columns.drop(['bed_type'] , axis=1, inplace=True)"
   ]
  },
  {
   "cell_type": "markdown",
   "metadata": {},
   "source": [
    "### Distance to Berlin Center"
   ]
  },
  {
   "cell_type": "markdown",
   "metadata": {},
   "source": [
    "Distance/Location is also an important factor in determining the price. Calculating each accommodation's distance to the so-called centroid of Berlin is simple rather than just relying on the neighbourhoods or areas."
   ]
  },
  {
   "cell_type": "code",
   "execution_count": 55,
   "metadata": {},
   "outputs": [],
   "source": [
    "# classgeopy.distance.great_circle(*args, **kwargs). Using spherical geometry to calculate the surface distance between two points.\n",
    "\n",
    "from geopy.distance import great_circle"
   ]
  },
  {
   "cell_type": "code",
   "execution_count": 56,
   "metadata": {},
   "outputs": [],
   "source": [
    "def distance_to_mid_center(lat, lon):\n",
    "    berlin_center = (52.5200, 13.4050)\n",
    "    accommodation = (lat, lon)\n",
    "    return great_circle(berlin_center, accommodation).km"
   ]
  },
  {
   "cell_type": "code",
   "execution_count": 57,
   "metadata": {},
   "outputs": [],
   "source": [
    "df_revised_columns['distance_to_midcenter'] = df_revised_columns.apply(lambda x: distance_to_mid_center(x.latitude, x.longitude), axis=1)"
   ]
  },
  {
   "cell_type": "code",
   "execution_count": 58,
   "metadata": {},
   "outputs": [
    {
     "data": {
      "text/html": [
       "<div>\n",
       "<style scoped>\n",
       "    .dataframe tbody tr th:only-of-type {\n",
       "        vertical-align: middle;\n",
       "    }\n",
       "\n",
       "    .dataframe tbody tr th {\n",
       "        vertical-align: top;\n",
       "    }\n",
       "\n",
       "    .dataframe thead th {\n",
       "        text-align: right;\n",
       "    }\n",
       "</style>\n",
       "<table border=\"1\" class=\"dataframe\">\n",
       "  <thead>\n",
       "    <tr style=\"text-align: right;\">\n",
       "      <th></th>\n",
       "      <th>space</th>\n",
       "      <th>description</th>\n",
       "      <th>host_has_profile_pic</th>\n",
       "      <th>neighbourhood_group_cleansed</th>\n",
       "      <th>latitude</th>\n",
       "      <th>longitude</th>\n",
       "      <th>property_type</th>\n",
       "      <th>accommodates</th>\n",
       "      <th>bathrooms</th>\n",
       "      <th>bedrooms</th>\n",
       "      <th>...</th>\n",
       "      <th>Entire home/apt</th>\n",
       "      <th>Private room</th>\n",
       "      <th>Shared room</th>\n",
       "      <th>price_range</th>\n",
       "      <th>Laptop_friendly_workspace</th>\n",
       "      <th>TV</th>\n",
       "      <th>Family_kid_friendly</th>\n",
       "      <th>Host_greets_you</th>\n",
       "      <th>Smoking_is_allowed</th>\n",
       "      <th>distance_to_midcenter</th>\n",
       "    </tr>\n",
       "    <tr>\n",
       "      <th>id</th>\n",
       "      <th></th>\n",
       "      <th></th>\n",
       "      <th></th>\n",
       "      <th></th>\n",
       "      <th></th>\n",
       "      <th></th>\n",
       "      <th></th>\n",
       "      <th></th>\n",
       "      <th></th>\n",
       "      <th></th>\n",
       "      <th></th>\n",
       "      <th></th>\n",
       "      <th></th>\n",
       "      <th></th>\n",
       "      <th></th>\n",
       "      <th></th>\n",
       "      <th></th>\n",
       "      <th></th>\n",
       "      <th></th>\n",
       "      <th></th>\n",
       "      <th></th>\n",
       "    </tr>\n",
       "  </thead>\n",
       "  <tbody>\n",
       "    <tr>\n",
       "      <td>2015</td>\n",
       "      <td>A+++ location! This „Einliegerwohnung“ is an e...</td>\n",
       "      <td>Great location!  30 of 75 sq meters. This wood...</td>\n",
       "      <td>1</td>\n",
       "      <td>Mitte</td>\n",
       "      <td>52.534537</td>\n",
       "      <td>13.402557</td>\n",
       "      <td>Guesthouse</td>\n",
       "      <td>3</td>\n",
       "      <td>1.0</td>\n",
       "      <td>1.0</td>\n",
       "      <td>...</td>\n",
       "      <td>1</td>\n",
       "      <td>0</td>\n",
       "      <td>0</td>\n",
       "      <td>40-60</td>\n",
       "      <td>False</td>\n",
       "      <td>True</td>\n",
       "      <td>False</td>\n",
       "      <td>False</td>\n",
       "      <td>False</td>\n",
       "      <td>1.624906</td>\n",
       "    </tr>\n",
       "    <tr>\n",
       "      <td>2695</td>\n",
       "      <td>In the summertime we are spending most of our ...</td>\n",
       "      <td>In the summertime we are spending most of our ...</td>\n",
       "      <td>1</td>\n",
       "      <td>Pankow</td>\n",
       "      <td>52.548513</td>\n",
       "      <td>13.404553</td>\n",
       "      <td>Apartment</td>\n",
       "      <td>2</td>\n",
       "      <td>1.0</td>\n",
       "      <td>1.0</td>\n",
       "      <td>...</td>\n",
       "      <td>0</td>\n",
       "      <td>1</td>\n",
       "      <td>0</td>\n",
       "      <td>0-20</td>\n",
       "      <td>False</td>\n",
       "      <td>False</td>\n",
       "      <td>False</td>\n",
       "      <td>False</td>\n",
       "      <td>False</td>\n",
       "      <td>3.170627</td>\n",
       "    </tr>\n",
       "  </tbody>\n",
       "</table>\n",
       "<p>2 rows × 33 columns</p>\n",
       "</div>"
      ],
      "text/plain": [
       "                                                  space  \\\n",
       "id                                                        \n",
       "2015  A+++ location! This „Einliegerwohnung“ is an e...   \n",
       "2695  In the summertime we are spending most of our ...   \n",
       "\n",
       "                                            description  host_has_profile_pic  \\\n",
       "id                                                                              \n",
       "2015  Great location!  30 of 75 sq meters. This wood...                     1   \n",
       "2695  In the summertime we are spending most of our ...                     1   \n",
       "\n",
       "     neighbourhood_group_cleansed   latitude  longitude property_type  \\\n",
       "id                                                                      \n",
       "2015                        Mitte  52.534537  13.402557    Guesthouse   \n",
       "2695                       Pankow  52.548513  13.404553     Apartment   \n",
       "\n",
       "      accommodates  bathrooms  bedrooms  ... Entire home/apt  Private room  \\\n",
       "id                                       ...                                 \n",
       "2015             3        1.0       1.0  ...               1             0   \n",
       "2695             2        1.0       1.0  ...               0             1   \n",
       "\n",
       "      Shared room  price_range  Laptop_friendly_workspace     TV  \\\n",
       "id                                                                 \n",
       "2015            0        40-60                      False   True   \n",
       "2695            0         0-20                      False  False   \n",
       "\n",
       "      Family_kid_friendly  Host_greets_you Smoking_is_allowed  \\\n",
       "id                                                              \n",
       "2015                False            False              False   \n",
       "2695                False            False              False   \n",
       "\n",
       "     distance_to_midcenter  \n",
       "id                          \n",
       "2015              1.624906  \n",
       "2695              3.170627  \n",
       "\n",
       "[2 rows x 33 columns]"
      ]
     },
     "execution_count": 58,
     "metadata": {},
     "output_type": "execute_result"
    }
   ],
   "source": [
    "df_revised_columns.head(2)"
   ]
  },
  {
   "cell_type": "code",
   "execution_count": 59,
   "metadata": {},
   "outputs": [
    {
     "data": {
      "text/plain": [
       "Index(['space', 'description', 'host_has_profile_pic',\n",
       "       'neighbourhood_group_cleansed', 'latitude', 'longitude',\n",
       "       'property_type', 'accommodates', 'bathrooms', 'bedrooms', 'amenities',\n",
       "       'square_feet', 'price', 'cleaning_fee', 'security_deposit',\n",
       "       'extra_people', 'guests_included', 'minimum_nights', 'instant_bookable',\n",
       "       'is_business_travel_ready', 'cancellation_policy', 'host_is_superhost',\n",
       "       'Total_price', 'Entire home/apt', 'Private room', 'Shared room',\n",
       "       'price_range', 'Laptop_friendly_workspace', 'TV', 'Family_kid_friendly',\n",
       "       'Host_greets_you', 'Smoking_is_allowed', 'distance_to_midcenter'],\n",
       "      dtype='object')"
      ]
     },
     "execution_count": 59,
     "metadata": {},
     "output_type": "execute_result"
    }
   ],
   "source": [
    "df_revised_columns.columns"
   ]
  },
  {
   "cell_type": "code",
   "execution_count": 60,
   "metadata": {},
   "outputs": [
    {
     "data": {
      "text/plain": [
       "21996"
      ]
     },
     "execution_count": 60,
     "metadata": {},
     "output_type": "execute_result"
    }
   ],
   "source": [
    "df_revised_columns['square_feet'].isna().sum()"
   ]
  },
  {
   "cell_type": "markdown",
   "metadata": {},
   "source": [
    "### Estimating the Size"
   ]
  },
  {
   "cell_type": "markdown",
   "metadata": {},
   "source": [
    "Size can be one of the important factors in determining the price. As we can see above, 95% of the square_feet column was filled with NaN's. But we can check the description column if we can extract any information from it regarding the size."
   ]
  },
  {
   "cell_type": "code",
   "execution_count": 61,
   "metadata": {},
   "outputs": [
    {
     "data": {
      "text/html": [
       "<div>\n",
       "<style scoped>\n",
       "    .dataframe tbody tr th:only-of-type {\n",
       "        vertical-align: middle;\n",
       "    }\n",
       "\n",
       "    .dataframe tbody tr th {\n",
       "        vertical-align: top;\n",
       "    }\n",
       "\n",
       "    .dataframe thead th {\n",
       "        text-align: right;\n",
       "    }\n",
       "</style>\n",
       "<table border=\"1\" class=\"dataframe\">\n",
       "  <thead>\n",
       "    <tr style=\"text-align: right;\">\n",
       "      <th></th>\n",
       "      <th>description</th>\n",
       "    </tr>\n",
       "    <tr>\n",
       "      <th>id</th>\n",
       "      <th></th>\n",
       "    </tr>\n",
       "  </thead>\n",
       "  <tbody>\n",
       "    <tr>\n",
       "      <td>2015</td>\n",
       "      <td>Great location!  30 of 75 sq meters. This wood...</td>\n",
       "    </tr>\n",
       "    <tr>\n",
       "      <td>2695</td>\n",
       "      <td>In the summertime we are spending most of our ...</td>\n",
       "    </tr>\n",
       "  </tbody>\n",
       "</table>\n",
       "</div>"
      ],
      "text/plain": [
       "                                            description\n",
       "id                                                     \n",
       "2015  Great location!  30 of 75 sq meters. This wood...\n",
       "2695  In the summertime we are spending most of our ..."
      ]
     },
     "execution_count": 61,
     "metadata": {},
     "output_type": "execute_result"
    }
   ],
   "source": [
    "df_revised_columns[['description']].head(2)"
   ]
  },
  {
   "cell_type": "code",
   "execution_count": 62,
   "metadata": {},
   "outputs": [],
   "source": [
    "df_revised_columns['size'] = df_revised_columns['description'].str.extract('(\\d{2,3}\\s?[smSM])', expand=True)\n",
    "df_revised_columns['size'] = df_revised_columns['size'].str.replace(\"\\D\", \"\")\n",
    "\n",
    "# change datatype of size into float\n",
    "\n",
    "df_revised_columns['size'] = df_revised_columns['size'].astype(float)"
   ]
  },
  {
   "cell_type": "code",
   "execution_count": 63,
   "metadata": {},
   "outputs": [
    {
     "data": {
      "text/html": [
       "<div>\n",
       "<style scoped>\n",
       "    .dataframe tbody tr th:only-of-type {\n",
       "        vertical-align: middle;\n",
       "    }\n",
       "\n",
       "    .dataframe tbody tr th {\n",
       "        vertical-align: top;\n",
       "    }\n",
       "\n",
       "    .dataframe thead th {\n",
       "        text-align: right;\n",
       "    }\n",
       "</style>\n",
       "<table border=\"1\" class=\"dataframe\">\n",
       "  <thead>\n",
       "    <tr style=\"text-align: right;\">\n",
       "      <th></th>\n",
       "      <th>description</th>\n",
       "      <th>size</th>\n",
       "    </tr>\n",
       "    <tr>\n",
       "      <th>id</th>\n",
       "      <th></th>\n",
       "      <th></th>\n",
       "    </tr>\n",
       "  </thead>\n",
       "  <tbody>\n",
       "    <tr>\n",
       "      <td>2015</td>\n",
       "      <td>Great location!  30 of 75 sq meters. This wood...</td>\n",
       "      <td>75.0</td>\n",
       "    </tr>\n",
       "    <tr>\n",
       "      <td>2695</td>\n",
       "      <td>In the summertime we are spending most of our ...</td>\n",
       "      <td>25.0</td>\n",
       "    </tr>\n",
       "    <tr>\n",
       "      <td>3176</td>\n",
       "      <td>This beautiful first floor apartment  is situa...</td>\n",
       "      <td>68.0</td>\n",
       "    </tr>\n",
       "    <tr>\n",
       "      <td>3309</td>\n",
       "      <td>First of all: I prefer short-notice bookings. ...</td>\n",
       "      <td>26.0</td>\n",
       "    </tr>\n",
       "    <tr>\n",
       "      <td>7071</td>\n",
       "      <td>Cozy and large room in the beautiful district ...</td>\n",
       "      <td>20.0</td>\n",
       "    </tr>\n",
       "    <tr>\n",
       "      <td>9991</td>\n",
       "      <td>4 bedroom with very large windows and outstand...</td>\n",
       "      <td>780.0</td>\n",
       "    </tr>\n",
       "    <tr>\n",
       "      <td>14325</td>\n",
       "      <td>The apartment is located on the upper second f...</td>\n",
       "      <td>NaN</td>\n",
       "    </tr>\n",
       "    <tr>\n",
       "      <td>16401</td>\n",
       "      <td>Hello future guests! We want to rent our cute ...</td>\n",
       "      <td>55.0</td>\n",
       "    </tr>\n",
       "  </tbody>\n",
       "</table>\n",
       "</div>"
      ],
      "text/plain": [
       "                                             description   size\n",
       "id                                                             \n",
       "2015   Great location!  30 of 75 sq meters. This wood...   75.0\n",
       "2695   In the summertime we are spending most of our ...   25.0\n",
       "3176   This beautiful first floor apartment  is situa...   68.0\n",
       "3309   First of all: I prefer short-notice bookings. ...   26.0\n",
       "7071   Cozy and large room in the beautiful district ...   20.0\n",
       "9991   4 bedroom with very large windows and outstand...  780.0\n",
       "14325  The apartment is located on the upper second f...    NaN\n",
       "16401  Hello future guests! We want to rent our cute ...   55.0"
      ]
     },
     "execution_count": 63,
     "metadata": {},
     "output_type": "execute_result"
    }
   ],
   "source": [
    "df_revised_columns[['description', 'size']].head(8)"
   ]
  },
  {
   "cell_type": "code",
   "execution_count": 64,
   "metadata": {},
   "outputs": [
    {
     "data": {
      "text/plain": [
       "11744"
      ]
     },
     "execution_count": 64,
     "metadata": {},
     "output_type": "execute_result"
    }
   ],
   "source": [
    "df_revised_columns['size'].isna().sum()"
   ]
  },
  {
   "cell_type": "code",
   "execution_count": 65,
   "metadata": {},
   "outputs": [
    {
     "data": {
      "text/plain": [
       "id\n",
       "2015        60.0\n",
       "2695        17.0\n",
       "3176        90.0\n",
       "3309        26.0\n",
       "7071        42.0\n",
       "            ... \n",
       "29856708    60.0\n",
       "29857108    20.0\n",
       "29864272    85.0\n",
       "29866805    99.0\n",
       "29867352    45.0\n",
       "Name: price, Length: 22441, dtype: float64"
      ]
     },
     "execution_count": 65,
     "metadata": {},
     "output_type": "execute_result"
    }
   ],
   "source": [
    "df_revised_columns['price']"
   ]
  },
  {
   "cell_type": "markdown",
   "metadata": {},
   "source": [
    "### Neighbourhood Statistics"
   ]
  },
  {
   "cell_type": "code",
   "execution_count": 66,
   "metadata": {},
   "outputs": [
    {
     "data": {
      "text/plain": [
       "count                        22441\n",
       "unique                          12\n",
       "top       Friedrichshain-Kreuzberg\n",
       "freq                          5479\n",
       "Name: neighbourhood_group_cleansed, dtype: object"
      ]
     },
     "execution_count": 66,
     "metadata": {},
     "output_type": "execute_result"
    }
   ],
   "source": [
    "df_revised_columns['neighbourhood_group_cleansed'].describe()"
   ]
  },
  {
   "cell_type": "code",
   "execution_count": 67,
   "metadata": {},
   "outputs": [
    {
     "data": {
      "text/html": [
       "<div>\n",
       "<style scoped>\n",
       "    .dataframe tbody tr th:only-of-type {\n",
       "        vertical-align: middle;\n",
       "    }\n",
       "\n",
       "    .dataframe tbody tr th {\n",
       "        vertical-align: top;\n",
       "    }\n",
       "\n",
       "    .dataframe thead th {\n",
       "        text-align: right;\n",
       "    }\n",
       "</style>\n",
       "<table border=\"1\" class=\"dataframe\">\n",
       "  <thead>\n",
       "    <tr style=\"text-align: right;\">\n",
       "      <th></th>\n",
       "      <th>neighbourhood</th>\n",
       "      <th>properties_count</th>\n",
       "      <th>avg_price</th>\n",
       "    </tr>\n",
       "  </thead>\n",
       "  <tbody>\n",
       "    <tr>\n",
       "      <td>0</td>\n",
       "      <td>Friedrichshain-Kreuzberg</td>\n",
       "      <td>5479</td>\n",
       "      <td>57.796861</td>\n",
       "    </tr>\n",
       "    <tr>\n",
       "      <td>1</td>\n",
       "      <td>Mitte</td>\n",
       "      <td>4596</td>\n",
       "      <td>63.573760</td>\n",
       "    </tr>\n",
       "    <tr>\n",
       "      <td>2</td>\n",
       "      <td>Pankow</td>\n",
       "      <td>3529</td>\n",
       "      <td>62.604704</td>\n",
       "    </tr>\n",
       "    <tr>\n",
       "      <td>3</td>\n",
       "      <td>Neukölln</td>\n",
       "      <td>3496</td>\n",
       "      <td>46.192792</td>\n",
       "    </tr>\n",
       "    <tr>\n",
       "      <td>4</td>\n",
       "      <td>Charlottenburg-Wilm.</td>\n",
       "      <td>1570</td>\n",
       "      <td>63.321656</td>\n",
       "    </tr>\n",
       "    <tr>\n",
       "      <td>5</td>\n",
       "      <td>Tempelhof - Schöneberg</td>\n",
       "      <td>1545</td>\n",
       "      <td>56.607767</td>\n",
       "    </tr>\n",
       "    <tr>\n",
       "      <td>6</td>\n",
       "      <td>Lichtenberg</td>\n",
       "      <td>685</td>\n",
       "      <td>47.719708</td>\n",
       "    </tr>\n",
       "    <tr>\n",
       "      <td>7</td>\n",
       "      <td>Treptow - Köpenick</td>\n",
       "      <td>595</td>\n",
       "      <td>52.216807</td>\n",
       "    </tr>\n",
       "    <tr>\n",
       "      <td>8</td>\n",
       "      <td>Steglitz - Zehlendorf</td>\n",
       "      <td>436</td>\n",
       "      <td>55.309633</td>\n",
       "    </tr>\n",
       "    <tr>\n",
       "      <td>9</td>\n",
       "      <td>Reinickendorf</td>\n",
       "      <td>246</td>\n",
       "      <td>44.882114</td>\n",
       "    </tr>\n",
       "    <tr>\n",
       "      <td>10</td>\n",
       "      <td>Marzahn - Hellersdorf</td>\n",
       "      <td>140</td>\n",
       "      <td>56.907143</td>\n",
       "    </tr>\n",
       "    <tr>\n",
       "      <td>11</td>\n",
       "      <td>Spandau</td>\n",
       "      <td>124</td>\n",
       "      <td>58.233871</td>\n",
       "    </tr>\n",
       "  </tbody>\n",
       "</table>\n",
       "</div>"
      ],
      "text/plain": [
       "               neighbourhood  properties_count  avg_price\n",
       "0   Friedrichshain-Kreuzberg              5479  57.796861\n",
       "1                      Mitte              4596  63.573760\n",
       "2                     Pankow              3529  62.604704\n",
       "3                   Neukölln              3496  46.192792\n",
       "4       Charlottenburg-Wilm.              1570  63.321656\n",
       "5     Tempelhof - Schöneberg              1545  56.607767\n",
       "6                Lichtenberg               685  47.719708\n",
       "7         Treptow - Köpenick               595  52.216807\n",
       "8      Steglitz - Zehlendorf               436  55.309633\n",
       "9              Reinickendorf               246  44.882114\n",
       "10     Marzahn - Hellersdorf               140  56.907143\n",
       "11                   Spandau               124  58.233871"
      ]
     },
     "execution_count": 67,
     "metadata": {},
     "output_type": "execute_result"
    }
   ],
   "source": [
    "# We would like to measure the popularity of average prices for each berlin neighbourhood just for our analysis\n",
    "\n",
    "neighbourhood_group = pd.DataFrame(df_revised_columns[\"neighbourhood_group_cleansed\"].value_counts())\n",
    "# Taking the avg price of the neighbourhood cleansed column\n",
    "neighbourhood_avgprice = df_revised_columns.groupby('neighbourhood_group_cleansed')['price'].agg(np.mean)\n",
    "neighbourhood_avgprice_df = pd.DataFrame(neighbourhood_avgprice)\n",
    "\n",
    "# Merge the two dataframes to create a final df\n",
    "neighbourhood_info = pd.merge(neighbourhood_group, neighbourhood_avgprice_df, how='inner', left_index=True, right_index=True)\n",
    "neighbourhood_info.reset_index(inplace=True)\n",
    "\n",
    "# Setting the column names\n",
    "neighbourhood_info.columns = ['neighbourhood', 'properties_count', 'avg_price']\n",
    "neighbourhood_info = neighbourhood_info.sort_values(by='properties_count', ascending=False)\n",
    "neighbourhood_info"
   ]
  },
  {
   "cell_type": "markdown",
   "metadata": {},
   "source": [
    "### Price differences by Neighbourhood"
   ]
  },
  {
   "cell_type": "code",
   "execution_count": 68,
   "metadata": {},
   "outputs": [
    {
     "data": {
      "text/plain": [
       "<matplotlib.axes._subplots.AxesSubplot at 0x152819f2bc8>"
      ]
     },
     "execution_count": 68,
     "metadata": {},
     "output_type": "execute_result"
    },
    {
     "data": {
      "image/png": "[encoded data removed]",
      "text/plain": [
       "<Figure size 1368x504 with 2 Axes>"
      ]
     },
     "metadata": {
      "needs_background": "light"
     },
     "output_type": "display_data"
    }
   ],
   "source": [
    "# Plot the above dataframe for better understanding\n",
    "\n",
    "neighbourhood_plot = neighbourhood_info.plot(kind = 'bar', x = 'neighbourhood', y='properties_count', figsize=(19,7))\n",
    "neighbourhood_info.plot(x = 'neighbourhood', y='avg_price', ax= neighbourhood_plot, secondary_y= True, color='r')"
   ]
  },
  {
   "cell_type": "markdown",
   "metadata": {},
   "source": [
    "### Accommodates"
   ]
  },
  {
   "cell_type": "code",
   "execution_count": 69,
   "metadata": {},
   "outputs": [
    {
     "data": {
      "text/plain": [
       "count    22441.000000\n",
       "mean         2.625195\n",
       "std          1.471029\n",
       "min          1.000000\n",
       "25%          2.000000\n",
       "50%          2.000000\n",
       "75%          3.000000\n",
       "max         16.000000\n",
       "Name: accommodates, dtype: float64"
      ]
     },
     "execution_count": 69,
     "metadata": {},
     "output_type": "execute_result"
    }
   ],
   "source": [
    "df_revised_columns['accommodates'].describe()"
   ]
  },
  {
   "cell_type": "code",
   "execution_count": 70,
   "metadata": {},
   "outputs": [
    {
     "data": {
      "text/plain": [
       "Text(0, 0.5, 'count')"
      ]
     },
     "execution_count": 70,
     "metadata": {},
     "output_type": "execute_result"
    },
    {
     "data": {
      "image/png": "[encoded data removed]",
      "text/plain": [
       "<Figure size 432x288 with 1 Axes>"
      ]
     },
     "metadata": {
      "needs_background": "light"
     },
     "output_type": "display_data"
    }
   ],
   "source": [
    "df_revised_columns['accommodates'].hist()\n",
    "plt.xlabel('number of accomodates')\n",
    "plt.ylabel('count')"
   ]
  },
  {
   "cell_type": "code",
   "execution_count": 71,
   "metadata": {},
   "outputs": [],
   "source": [
    "from scipy import stats"
   ]
  },
  {
   "cell_type": "code",
   "execution_count": 72,
   "metadata": {},
   "outputs": [
    {
     "data": {
      "image/png": "[encoded data removed]",
      "text/plain": [
       "<Figure size 432x288 with 1 Axes>"
      ]
     },
     "metadata": {},
     "output_type": "display_data"
    },
    {
     "name": "stdout",
     "output_type": "stream",
     "text": [
      "The pearson correlation coefficient between the number of accommodates and price is  0.5745 with a p-value of  0.0000.\n"
     ]
    }
   ],
   "source": [
    "# Let's check the avg price grouped with number of accommodates and calculate pearson value\n",
    "\n",
    "sns.set_style('darkgrid')\n",
    "df_revised_columns.groupby(\"accommodates\")[\"price\"].agg(np.mean).plot(kind=\"bar\", rot=0)\n",
    "plt.title(\"Avg. Price grouped by Number of Accommodates\")\n",
    "plt.show()\n",
    "print(\"The pearson correlation coefficient between the number of accommodates and price is {0[0]: .4f} with a p-value of {0[1]: .4f}.\".format(stats.pearsonr(df_revised_columns['accommodates'], df_revised_columns['price'])))"
   ]
  },
  {
   "cell_type": "markdown",
   "metadata": {},
   "source": [
    "From the above, it seems like accommodates and price seems to be highly correlated. The null hypothesis I assumed was that the accommodates and price are not significantly related. Since p-value is very very low comparitively(~0), we can reject the null hyothesis. "
   ]
  },
  {
   "cell_type": "code",
   "execution_count": 73,
   "metadata": {},
   "outputs": [
    {
     "data": {
      "text/html": [
       "<div>\n",
       "<style scoped>\n",
       "    .dataframe tbody tr th:only-of-type {\n",
       "        vertical-align: middle;\n",
       "    }\n",
       "\n",
       "    .dataframe tbody tr th {\n",
       "        vertical-align: top;\n",
       "    }\n",
       "\n",
       "    .dataframe thead th {\n",
       "        text-align: right;\n",
       "    }\n",
       "</style>\n",
       "<table border=\"1\" class=\"dataframe\">\n",
       "  <thead>\n",
       "    <tr style=\"text-align: right;\">\n",
       "      <th></th>\n",
       "      <th>space</th>\n",
       "      <th>description</th>\n",
       "      <th>host_has_profile_pic</th>\n",
       "      <th>neighbourhood_group_cleansed</th>\n",
       "      <th>latitude</th>\n",
       "      <th>longitude</th>\n",
       "      <th>property_type</th>\n",
       "      <th>accommodates</th>\n",
       "      <th>bathrooms</th>\n",
       "      <th>bedrooms</th>\n",
       "      <th>...</th>\n",
       "      <th>Private room</th>\n",
       "      <th>Shared room</th>\n",
       "      <th>price_range</th>\n",
       "      <th>Laptop_friendly_workspace</th>\n",
       "      <th>TV</th>\n",
       "      <th>Family_kid_friendly</th>\n",
       "      <th>Host_greets_you</th>\n",
       "      <th>Smoking_is_allowed</th>\n",
       "      <th>distance_to_midcenter</th>\n",
       "      <th>size</th>\n",
       "    </tr>\n",
       "    <tr>\n",
       "      <th>id</th>\n",
       "      <th></th>\n",
       "      <th></th>\n",
       "      <th></th>\n",
       "      <th></th>\n",
       "      <th></th>\n",
       "      <th></th>\n",
       "      <th></th>\n",
       "      <th></th>\n",
       "      <th></th>\n",
       "      <th></th>\n",
       "      <th></th>\n",
       "      <th></th>\n",
       "      <th></th>\n",
       "      <th></th>\n",
       "      <th></th>\n",
       "      <th></th>\n",
       "      <th></th>\n",
       "      <th></th>\n",
       "      <th></th>\n",
       "      <th></th>\n",
       "      <th></th>\n",
       "    </tr>\n",
       "  </thead>\n",
       "  <tbody>\n",
       "    <tr>\n",
       "      <td>2015</td>\n",
       "      <td>A+++ location! This „Einliegerwohnung“ is an e...</td>\n",
       "      <td>Great location!  30 of 75 sq meters. This wood...</td>\n",
       "      <td>1</td>\n",
       "      <td>Mitte</td>\n",
       "      <td>52.534537</td>\n",
       "      <td>13.402557</td>\n",
       "      <td>Guesthouse</td>\n",
       "      <td>3</td>\n",
       "      <td>1.0</td>\n",
       "      <td>1.0</td>\n",
       "      <td>...</td>\n",
       "      <td>0</td>\n",
       "      <td>0</td>\n",
       "      <td>40-60</td>\n",
       "      <td>False</td>\n",
       "      <td>True</td>\n",
       "      <td>False</td>\n",
       "      <td>False</td>\n",
       "      <td>False</td>\n",
       "      <td>1.624906</td>\n",
       "      <td>75.0</td>\n",
       "    </tr>\n",
       "    <tr>\n",
       "      <td>2695</td>\n",
       "      <td>In the summertime we are spending most of our ...</td>\n",
       "      <td>In the summertime we are spending most of our ...</td>\n",
       "      <td>1</td>\n",
       "      <td>Pankow</td>\n",
       "      <td>52.548513</td>\n",
       "      <td>13.404553</td>\n",
       "      <td>Apartment</td>\n",
       "      <td>2</td>\n",
       "      <td>1.0</td>\n",
       "      <td>1.0</td>\n",
       "      <td>...</td>\n",
       "      <td>1</td>\n",
       "      <td>0</td>\n",
       "      <td>0-20</td>\n",
       "      <td>False</td>\n",
       "      <td>False</td>\n",
       "      <td>False</td>\n",
       "      <td>False</td>\n",
       "      <td>False</td>\n",
       "      <td>3.170627</td>\n",
       "      <td>25.0</td>\n",
       "    </tr>\n",
       "  </tbody>\n",
       "</table>\n",
       "<p>2 rows × 34 columns</p>\n",
       "</div>"
      ],
      "text/plain": [
       "                                                  space  \\\n",
       "id                                                        \n",
       "2015  A+++ location! This „Einliegerwohnung“ is an e...   \n",
       "2695  In the summertime we are spending most of our ...   \n",
       "\n",
       "                                            description  host_has_profile_pic  \\\n",
       "id                                                                              \n",
       "2015  Great location!  30 of 75 sq meters. This wood...                     1   \n",
       "2695  In the summertime we are spending most of our ...                     1   \n",
       "\n",
       "     neighbourhood_group_cleansed   latitude  longitude property_type  \\\n",
       "id                                                                      \n",
       "2015                        Mitte  52.534537  13.402557    Guesthouse   \n",
       "2695                       Pankow  52.548513  13.404553     Apartment   \n",
       "\n",
       "      accommodates  bathrooms  bedrooms  ... Private room  Shared room  \\\n",
       "id                                       ...                             \n",
       "2015             3        1.0       1.0  ...            0            0   \n",
       "2695             2        1.0       1.0  ...            1            0   \n",
       "\n",
       "      price_range  Laptop_friendly_workspace     TV  Family_kid_friendly  \\\n",
       "id                                                                         \n",
       "2015        40-60                      False   True                False   \n",
       "2695         0-20                      False  False                False   \n",
       "\n",
       "      Host_greets_you  Smoking_is_allowed distance_to_midcenter  size  \n",
       "id                                                                     \n",
       "2015            False               False              1.624906  75.0  \n",
       "2695            False               False              3.170627  25.0  \n",
       "\n",
       "[2 rows x 34 columns]"
      ]
     },
     "execution_count": 73,
     "metadata": {},
     "output_type": "execute_result"
    }
   ],
   "source": [
    "# we dropped space and amenities columns from the revised dataframe\n",
    "\n",
    "df_revised_columns.head(2)"
   ]
  },
  {
   "cell_type": "code",
   "execution_count": 74,
   "metadata": {},
   "outputs": [
    {
     "name": "stdout",
     "output_type": "stream",
     "text": [
      "<class 'pandas.core.frame.DataFrame'>\n",
      "Int64Index: 22441 entries, 2015 to 29867352\n",
      "Data columns (total 34 columns):\n",
      "space                           13938 non-null object\n",
      "description                     22239 non-null object\n",
      "host_has_profile_pic            22441 non-null int64\n",
      "neighbourhood_group_cleansed    22441 non-null object\n",
      "latitude                        22441 non-null float64\n",
      "longitude                       22441 non-null float64\n",
      "property_type                   22441 non-null object\n",
      "accommodates                    22441 non-null int64\n",
      "bathrooms                       22409 non-null float64\n",
      "bedrooms                        22423 non-null float64\n",
      "amenities                       22441 non-null object\n",
      "square_feet                     445 non-null float64\n",
      "price                           22441 non-null float64\n",
      "cleaning_fee                    22441 non-null float64\n",
      "security_deposit                22441 non-null float64\n",
      "extra_people                    22441 non-null float64\n",
      "guests_included                 22441 non-null int64\n",
      "minimum_nights                  22441 non-null int64\n",
      "instant_bookable                22441 non-null object\n",
      "is_business_travel_ready        22441 non-null object\n",
      "cancellation_policy             22441 non-null object\n",
      "host_is_superhost               22441 non-null int64\n",
      "Total_price                     22441 non-null float64\n",
      "Entire home/apt                 22441 non-null uint8\n",
      "Private room                    22441 non-null uint8\n",
      "Shared room                     22441 non-null uint8\n",
      "price_range                     22441 non-null category\n",
      "Laptop_friendly_workspace       22441 non-null bool\n",
      "TV                              22441 non-null bool\n",
      "Family_kid_friendly             22441 non-null bool\n",
      "Host_greets_you                 22441 non-null bool\n",
      "Smoking_is_allowed              22441 non-null bool\n",
      "distance_to_midcenter           22441 non-null float64\n",
      "size                            10697 non-null float64\n",
      "dtypes: bool(5), category(1), float64(12), int64(5), object(8), uint8(3)\n",
      "memory usage: 5.3+ MB\n"
     ]
    }
   ],
   "source": [
    "df_revised_columns.info()"
   ]
  },
  {
   "cell_type": "code",
   "execution_count": 75,
   "metadata": {},
   "outputs": [],
   "source": [
    "# mapping price range column to the specific integers for model later\n",
    "\n",
    "mapping = {\"0-20\" : 0, \"20-40\" : 1, \"40-60\" : 2, \"60-80\" : 3, \"80-100\" : 4, \"100-120\" : 5, \"120-140\" : 6, \"140+\" : 7}\n",
    "df_revised_columns['price_range_mapped'] = df_revised_columns['price_range'].apply(lambda x: mapping[x])"
   ]
  },
  {
   "cell_type": "code",
   "execution_count": 76,
   "metadata": {},
   "outputs": [
    {
     "data": {
      "text/html": [
       "<div>\n",
       "<style scoped>\n",
       "    .dataframe tbody tr th:only-of-type {\n",
       "        vertical-align: middle;\n",
       "    }\n",
       "\n",
       "    .dataframe tbody tr th {\n",
       "        vertical-align: top;\n",
       "    }\n",
       "\n",
       "    .dataframe thead th {\n",
       "        text-align: right;\n",
       "    }\n",
       "</style>\n",
       "<table border=\"1\" class=\"dataframe\">\n",
       "  <thead>\n",
       "    <tr style=\"text-align: right;\">\n",
       "      <th></th>\n",
       "      <th>space</th>\n",
       "      <th>description</th>\n",
       "      <th>host_has_profile_pic</th>\n",
       "      <th>neighbourhood_group_cleansed</th>\n",
       "      <th>latitude</th>\n",
       "      <th>longitude</th>\n",
       "      <th>property_type</th>\n",
       "      <th>accommodates</th>\n",
       "      <th>bathrooms</th>\n",
       "      <th>bedrooms</th>\n",
       "      <th>...</th>\n",
       "      <th>Shared room</th>\n",
       "      <th>price_range</th>\n",
       "      <th>Laptop_friendly_workspace</th>\n",
       "      <th>TV</th>\n",
       "      <th>Family_kid_friendly</th>\n",
       "      <th>Host_greets_you</th>\n",
       "      <th>Smoking_is_allowed</th>\n",
       "      <th>distance_to_midcenter</th>\n",
       "      <th>size</th>\n",
       "      <th>price_range_mapped</th>\n",
       "    </tr>\n",
       "    <tr>\n",
       "      <th>id</th>\n",
       "      <th></th>\n",
       "      <th></th>\n",
       "      <th></th>\n",
       "      <th></th>\n",
       "      <th></th>\n",
       "      <th></th>\n",
       "      <th></th>\n",
       "      <th></th>\n",
       "      <th></th>\n",
       "      <th></th>\n",
       "      <th></th>\n",
       "      <th></th>\n",
       "      <th></th>\n",
       "      <th></th>\n",
       "      <th></th>\n",
       "      <th></th>\n",
       "      <th></th>\n",
       "      <th></th>\n",
       "      <th></th>\n",
       "      <th></th>\n",
       "      <th></th>\n",
       "    </tr>\n",
       "  </thead>\n",
       "  <tbody>\n",
       "    <tr>\n",
       "      <td>2015</td>\n",
       "      <td>A+++ location! This „Einliegerwohnung“ is an e...</td>\n",
       "      <td>Great location!  30 of 75 sq meters. This wood...</td>\n",
       "      <td>1</td>\n",
       "      <td>Mitte</td>\n",
       "      <td>52.534537</td>\n",
       "      <td>13.402557</td>\n",
       "      <td>Guesthouse</td>\n",
       "      <td>3</td>\n",
       "      <td>1.0</td>\n",
       "      <td>1.0</td>\n",
       "      <td>...</td>\n",
       "      <td>0</td>\n",
       "      <td>40-60</td>\n",
       "      <td>False</td>\n",
       "      <td>True</td>\n",
       "      <td>False</td>\n",
       "      <td>False</td>\n",
       "      <td>False</td>\n",
       "      <td>1.624906</td>\n",
       "      <td>75.0</td>\n",
       "      <td>2</td>\n",
       "    </tr>\n",
       "    <tr>\n",
       "      <td>2695</td>\n",
       "      <td>In the summertime we are spending most of our ...</td>\n",
       "      <td>In the summertime we are spending most of our ...</td>\n",
       "      <td>1</td>\n",
       "      <td>Pankow</td>\n",
       "      <td>52.548513</td>\n",
       "      <td>13.404553</td>\n",
       "      <td>Apartment</td>\n",
       "      <td>2</td>\n",
       "      <td>1.0</td>\n",
       "      <td>1.0</td>\n",
       "      <td>...</td>\n",
       "      <td>0</td>\n",
       "      <td>0-20</td>\n",
       "      <td>False</td>\n",
       "      <td>False</td>\n",
       "      <td>False</td>\n",
       "      <td>False</td>\n",
       "      <td>False</td>\n",
       "      <td>3.170627</td>\n",
       "      <td>25.0</td>\n",
       "      <td>0</td>\n",
       "    </tr>\n",
       "  </tbody>\n",
       "</table>\n",
       "<p>2 rows × 35 columns</p>\n",
       "</div>"
      ],
      "text/plain": [
       "                                                  space  \\\n",
       "id                                                        \n",
       "2015  A+++ location! This „Einliegerwohnung“ is an e...   \n",
       "2695  In the summertime we are spending most of our ...   \n",
       "\n",
       "                                            description  host_has_profile_pic  \\\n",
       "id                                                                              \n",
       "2015  Great location!  30 of 75 sq meters. This wood...                     1   \n",
       "2695  In the summertime we are spending most of our ...                     1   \n",
       "\n",
       "     neighbourhood_group_cleansed   latitude  longitude property_type  \\\n",
       "id                                                                      \n",
       "2015                        Mitte  52.534537  13.402557    Guesthouse   \n",
       "2695                       Pankow  52.548513  13.404553     Apartment   \n",
       "\n",
       "      accommodates  bathrooms  bedrooms  ... Shared room  price_range  \\\n",
       "id                                       ...                            \n",
       "2015             3        1.0       1.0  ...           0        40-60   \n",
       "2695             2        1.0       1.0  ...           0         0-20   \n",
       "\n",
       "      Laptop_friendly_workspace     TV  Family_kid_friendly  Host_greets_you  \\\n",
       "id                                                                             \n",
       "2015                      False   True                False            False   \n",
       "2695                      False  False                False            False   \n",
       "\n",
       "      Smoking_is_allowed  distance_to_midcenter  size price_range_mapped  \n",
       "id                                                                        \n",
       "2015               False               1.624906  75.0                  2  \n",
       "2695               False               3.170627  25.0                  0  \n",
       "\n",
       "[2 rows x 35 columns]"
      ]
     },
     "execution_count": 76,
     "metadata": {},
     "output_type": "execute_result"
    }
   ],
   "source": [
    "df_revised_columns.head(2)"
   ]
  },
  {
   "cell_type": "code",
   "execution_count": 77,
   "metadata": {},
   "outputs": [],
   "source": [
    "# remember to deal with columns instant bookable and cancellation policy, change them from category to numerical"
   ]
  },
  {
   "cell_type": "markdown",
   "metadata": {},
   "source": [
    "## Exploratory Data Analysis"
   ]
  },
  {
   "cell_type": "markdown",
   "metadata": {},
   "source": [
    "A. We would like to know the significance of **price and mid center of Berlin**."
   ]
  },
  {
   "cell_type": "code",
   "execution_count": 78,
   "metadata": {},
   "outputs": [
    {
     "data": {
      "text/plain": [
       "Text(0.5, 1.0, 'Relation between distance and median price')"
      ]
     },
     "execution_count": 78,
     "metadata": {},
     "output_type": "execute_result"
    },
    {
     "data": {
      "image/png": "[encoded data removed]",
      "text/plain": [
       "<Figure size 432x288 with 1 Axes>"
      ]
     },
     "metadata": {},
     "output_type": "display_data"
    }
   ],
   "source": [
    "sns.regplot(x='distance_to_midcenter', y='price', data= df_revised_columns)\n",
    "plt.title('Relation between distance and median price', fontsize=15, fontweight='bold')"
   ]
  },
  {
   "cell_type": "code",
   "execution_count": 79,
   "metadata": {},
   "outputs": [
    {
     "data": {
      "text/plain": [
       "Text(0.5, 1, 'Relation between distance and median price')"
      ]
     },
     "execution_count": 79,
     "metadata": {},
     "output_type": "execute_result"
    },
    {
     "data": {
      "image/png": "[encoded data removed]",
      "text/plain": [
       "<Figure size 432x432 with 3 Axes>"
      ]
     },
     "metadata": {},
     "output_type": "display_data"
    }
   ],
   "source": [
    "sns.jointplot(x='distance_to_midcenter', y='price', data = df_revised_columns, kind='hex', color='blue')\n",
    "plt.title('Relation between distance and median price', fontsize=12, fontweight='bold')"
   ]
  },
  {
   "cell_type": "markdown",
   "metadata": {},
   "source": [
    "B. We would like to know the significance of **price and cleaning fee** if it is gonna affect in any way."
   ]
  },
  {
   "cell_type": "code",
   "execution_count": 80,
   "metadata": {},
   "outputs": [
    {
     "name": "stdout",
     "output_type": "stream",
     "text": [
      "The pearson correlation coefficient between the cleaning fee and price is  0.4041 with a p-value of  0.0000.\n"
     ]
    },
    {
     "data": {
      "image/png": "[encoded data removed]",
      "text/plain": [
       "<Figure size 864x576 with 1 Axes>"
      ]
     },
     "metadata": {},
     "output_type": "display_data"
    }
   ],
   "source": [
    "plt.figure(figsize=(12, 8))\n",
    "g = sns.regplot(x='cleaning_fee', y='price', data = df_revised_columns)\n",
    "print(\"The pearson correlation coefficient between the cleaning fee and price is {0[0]: .4f} with a p-value of {0[1]: .4f}.\".format(stats.pearsonr(df_revised_columns[\"cleaning_fee\"], df_revised_columns[\"price\"])))"
   ]
  },
  {
   "cell_type": "markdown",
   "metadata": {},
   "source": [
    "Looks like the cleaning fee and the price has a significant correlation with each other."
   ]
  },
  {
   "cell_type": "markdown",
   "metadata": {},
   "source": [
    "C. **Price differences** based on **latitude** and **longitude**"
   ]
  },
  {
   "cell_type": "code",
   "execution_count": 81,
   "metadata": {},
   "outputs": [
    {
     "data": {
      "text/plain": [
       "<matplotlib.axes._subplots.AxesSubplot at 0x152808ba0c8>"
      ]
     },
     "execution_count": 81,
     "metadata": {},
     "output_type": "execute_result"
    },
    {
     "data": {
      "image/png": "[encoded data removed]",
      "text/plain": [
       "<Figure size 648x576 with 2 Axes>"
      ]
     },
     "metadata": {},
     "output_type": "display_data"
    }
   ],
   "source": [
    "df_revised_columns.plot(kind=\"scatter\", x=\"longitude\", y=\"latitude\", alpha=0.5, figsize=(9,8), \n",
    "                        c='price', cmap='gist_heat_r', colorbar=True, sharex=False)"
   ]
  },
  {
   "cell_type": "markdown",
   "metadata": {},
   "source": [
    "D. Let us now check  difference between **price** and the **type of neighbourhood**"
   ]
  },
  {
   "cell_type": "code",
   "execution_count": 101,
   "metadata": {},
   "outputs": [
    {
     "data": {
      "text/plain": [
       "Text(0.5, 1.0, 'Relation between Neighbourhood and Median price')"
      ]
     },
     "execution_count": 101,
     "metadata": {},
     "output_type": "execute_result"
    },
    {
     "data": {
      "image/png": "[encoded data removed]",
      "text/plain": [
       "<Figure size 576x432 with 1 Axes>"
      ]
     },
     "metadata": {},
     "output_type": "display_data"
    }
   ],
   "source": [
    "neighbourhood_df = pd.DataFrame(df_revised_columns.groupby('neighbourhood_group_cleansed')['price'].agg(np.median))\n",
    "neighbourhood_df.sort_values(by=['price'], ascending=True, inplace=True)\n",
    "neighbourhood_df.reset_index(inplace=True)\n",
    "neighbourhood_df.columns=['neighbourhood', 'median_price']\n",
    "neighbourhood_df.plot(kind='barh', x='neighbourhood', y='median_price', figsize=(8,6), fontsize=10, color='orange')\n",
    "plt.title('Relation between Neighbourhood and Median price')"
   ]
  },
  {
   "cell_type": "markdown",
   "metadata": {},
   "source": [
    "Let's see the boxplot for the above"
   ]
  },
  {
   "cell_type": "code",
   "execution_count": 106,
   "metadata": {},
   "outputs": [
    {
     "data": {
      "text/plain": [
       "Text(0.5, 0.98, '')"
      ]
     },
     "execution_count": 106,
     "metadata": {},
     "output_type": "execute_result"
    },
    {
     "data": {
      "image/png": "[encoded data removed]",
      "text/plain": [
       "<Figure size 648x504 with 1 Axes>"
      ]
     },
     "metadata": {},
     "output_type": "display_data"
    }
   ],
   "source": [
    "flierprops = dict(markerfacecolor='red', markeredgecolor='red', marker='.')\n",
    "\n",
    "df_revised_columns.boxplot(column='price', by='neighbourhood_group_cleansed', vert=False, figsize=(9,7), flierprops= flierprops)\n",
    "\n",
    "plt.xlabel('Median price', fontsize=12)\n",
    "plt.ylabel('neighbourhood', fontsize=12)\n",
    "plt.title('Box plot for Neighbourhood and Median price', fontsize=12, fontweight='bold')\n",
    "\n",
    "# removing automatic generated box plot title\n",
    "\n",
    "plt.suptitle(\"\")"
   ]
  },
  {
   "cell_type": "markdown",
   "metadata": {},
   "source": [
    "Relation between **Cancellation policy** and **avg price**."
   ]
  },
  {
   "cell_type": "code",
   "execution_count": 152,
   "metadata": {},
   "outputs": [
    {
     "data": {
      "text/html": [
       "<div>\n",
       "<style scoped>\n",
       "    .dataframe tbody tr th:only-of-type {\n",
       "        vertical-align: middle;\n",
       "    }\n",
       "\n",
       "    .dataframe tbody tr th {\n",
       "        vertical-align: top;\n",
       "    }\n",
       "\n",
       "    .dataframe thead th {\n",
       "        text-align: right;\n",
       "    }\n",
       "</style>\n",
       "<table border=\"1\" class=\"dataframe\">\n",
       "  <thead>\n",
       "    <tr style=\"text-align: right;\">\n",
       "      <th></th>\n",
       "      <th>cancellation_policy</th>\n",
       "      <th>counts</th>\n",
       "      <th>avg_price</th>\n",
       "    </tr>\n",
       "  </thead>\n",
       "  <tbody>\n",
       "    <tr>\n",
       "      <td>0</td>\n",
       "      <td>flexible</td>\n",
       "      <td>9051</td>\n",
       "      <td>48.923434</td>\n",
       "    </tr>\n",
       "    <tr>\n",
       "      <td>1</td>\n",
       "      <td>moderate</td>\n",
       "      <td>7075</td>\n",
       "      <td>57.686360</td>\n",
       "    </tr>\n",
       "    <tr>\n",
       "      <td>3</td>\n",
       "      <td>super_strict_30</td>\n",
       "      <td>50</td>\n",
       "      <td>66.780000</td>\n",
       "    </tr>\n",
       "    <tr>\n",
       "      <td>2</td>\n",
       "      <td>strict_14_with_grace_period</td>\n",
       "      <td>6253</td>\n",
       "      <td>69.730689</td>\n",
       "    </tr>\n",
       "    <tr>\n",
       "      <td>4</td>\n",
       "      <td>super_strict_60</td>\n",
       "      <td>12</td>\n",
       "      <td>162.416667</td>\n",
       "    </tr>\n",
       "  </tbody>\n",
       "</table>\n",
       "</div>"
      ],
      "text/plain": [
       "           cancellation_policy  counts   avg_price\n",
       "0                     flexible    9051   48.923434\n",
       "1                     moderate    7075   57.686360\n",
       "3              super_strict_30      50   66.780000\n",
       "2  strict_14_with_grace_period    6253   69.730689\n",
       "4              super_strict_60      12  162.416667"
      ]
     },
     "execution_count": 152,
     "metadata": {},
     "output_type": "execute_result"
    }
   ],
   "source": [
    "# plotting the relation between cancellation_policy and avg_price along with the counts\n",
    "\n",
    "# Taking the value counts of all the different categories of cancellation_policy column\n",
    "cancellation_policy_group = pd.DataFrame(df_revised_columns[\"cancellation_policy\"].value_counts())\n",
    "\n",
    "# Calculating the mean of the cancellation_policy \n",
    "cancellation_policy_mean =  df_revised_columns.groupby(\"cancellation_policy\")[\"price\"].agg(np.mean)\n",
    "cancellation_policy_df = pd.DataFrame(cancellation_policy_mean)\n",
    "\n",
    "# Merging both groups into a dataframe\n",
    "cancellation_policy_info = pd.merge(cancellation_policy_group, cancellation_policy_df, how='inner', left_index=True, right_index=True)\n",
    "cancellation_policy_info.reset_index(inplace=True)\n",
    "\n",
    "# Renaming the columns\n",
    "cancellation_policy_info.columns=['cancellation_policy', 'counts', 'avg_price']\n",
    "\n",
    "# Sorting the values by avg_price\n",
    "cancellation_policy_info.sort_values(by=['avg_price'], ascending=True)"
   ]
  },
  {
   "cell_type": "code",
   "execution_count": 153,
   "metadata": {},
   "outputs": [
    {
     "data": {
      "text/plain": [
       "<matplotlib.axes._subplots.AxesSubplot at 0x1528c478b88>"
      ]
     },
     "execution_count": 153,
     "metadata": {},
     "output_type": "execute_result"
    },
    {
     "data": {
      "image/png": "[encoded data removed]",
      "text/plain": [
       "<Figure size 720x576 with 2 Axes>"
      ]
     },
     "metadata": {},
     "output_type": "display_data"
    }
   ],
   "source": [
    "# Plot the above dataframe for better understanding\n",
    "\n",
    "cancellation_policy_plot = cancellation_policy_info.plot(kind = 'bar', x = 'cancellation_policy', y='counts', figsize=(10,8))\n",
    "cancellation_policy_info.plot(x = 'cancellation_policy', y='avg_price', ax= cancellation_policy_plot, secondary_y= True, color='green')\n",
    "plt.title('')"
   ]
  },
  {
   "cell_type": "code",
   "execution_count": 156,
   "metadata": {},
   "outputs": [
    {
     "data": {
      "text/plain": [
       "32"
      ]
     },
     "execution_count": 156,
     "metadata": {},
     "output_type": "execute_result"
    }
   ],
   "source": [
    "df_revised_columns['bathrooms'].isna().sum()"
   ]
  },
  {
   "cell_type": "code",
   "execution_count": null,
   "metadata": {},
   "outputs": [],
   "source": []
  }
 ],
 "metadata": {
  "kernelspec": {
   "display_name": "Python 3",
   "language": "python",
   "name": "python3"
  },
  "language_info": {
   "codemirror_mode": {
    "name": "ipython",
    "version": 3
   },
   "file_extension": ".py",
   "mimetype": "text/x-python",
   "name": "python",
   "nbconvert_exporter": "python",
   "pygments_lexer": "ipython3",
   "version": "3.7.4"
  }
 },
 "nbformat": 4,
 "nbformat_minor": 2
}
